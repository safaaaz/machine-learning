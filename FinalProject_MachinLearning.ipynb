{
  "nbformat": 4,
  "nbformat_minor": 0,
  "metadata": {
    "colab": {
      "provenance": [],
      "collapsed_sections": []
    },
    "kernelspec": {
      "name": "python3",
      "display_name": "Python 3"
    },
    "language_info": {
      "name": "python"
    }
  },
  "cells": [
    {
      "cell_type": "markdown",
      "source": [
        "# **Gender gaps as employers in high-tech companies**\n",
        "** Machine Learning - Final Project **\n",
        "\n",
        "Eng Safaa Azbarqa - 211342530\n",
        "\n"
      ],
      "metadata": {
        "id": "c9j0oyXmKtLj"
      }
    },
    {
      "cell_type": "markdown",
      "source": [
        "# New Section"
      ],
      "metadata": {
        "id": "XU6eINF8mp5W"
      }
    },
    {
      "cell_type": "markdown",
      "source": [
        "setting up Kaggle & download the dataset"
      ],
      "metadata": {
        "id": "Ul_J5UfFKRSA"
      }
    },
    {
      "cell_type": "code",
      "source": [
        "import json\n",
        "import os\n",
        "\n",
        "!mkdir /root/.kaggle/\n",
        "api_token = {\"username\":\"safaaazbarqa\",\"key\":\"cb765b192e6a8751fd22e76f0b39de0a\"}\n",
        "with open('/root/.kaggle/kaggle.json', 'w') as file:\n",
        "  json.dump(api_token, file)\n",
        "!chmod 600 /root/.kaggle/kaggle.json\n",
        "\n",
        "!mkdir ./datasets\n",
        "!mkdir ./datasets/ibm-hr\n",
        "\n",
        "# download the dataset from Kaggle and unzip it\n",
        "!kaggle datasets download pavansubhasht/ibm-hr-analytics-attrition-dataset  -p ./datasets/ibm-hr\n",
        "!unzip ./datasets/ibm-hr/*.zip  -d ./datasets/ibm-hr/\n"
      ],
      "metadata": {
        "colab": {
          "base_uri": "https://localhost:8080/"
        },
        "id": "Kum1bkMuO3Re",
        "outputId": "2f66c9cf-c5d2-4a7e-ee19-84fbb9c33aca"
      },
      "execution_count": null,
      "outputs": [
        {
          "output_type": "stream",
          "name": "stdout",
          "text": [
            "Downloading ibm-hr-analytics-attrition-dataset.zip to ./datasets/ibm-hr\n",
            "\r  0% 0.00/50.1k [00:00<?, ?B/s]\n",
            "\r100% 50.1k/50.1k [00:00<00:00, 32.0MB/s]\n",
            "Archive:  ./datasets/ibm-hr/ibm-hr-analytics-attrition-dataset.zip\n",
            "  inflating: ./datasets/ibm-hr/WA_Fn-UseC_-HR-Employee-Attrition.csv  \n"
          ]
        }
      ]
    },
    {
      "cell_type": "code",
      "source": [
        "!pip install turicreate"
      ],
      "metadata": {
        "colab": {
          "base_uri": "https://localhost:8080/"
        },
        "id": "W-g9N77_mShN",
        "outputId": "cfa848bb-c360-455b-fbdf-063aaad264ec"
      },
      "execution_count": null,
      "outputs": [
        {
          "output_type": "stream",
          "name": "stdout",
          "text": [
            "Looking in indexes: https://pypi.org/simple, https://us-python.pkg.dev/colab-wheels/public/simple/\n",
            "Requirement already satisfied: turicreate in /usr/local/lib/python3.7/dist-packages (6.4.1)\n",
            "Requirement already satisfied: scipy>=1.1.0 in /usr/local/lib/python3.7/dist-packages (from turicreate) (1.4.1)\n",
            "Requirement already satisfied: resampy==0.2.1 in /usr/local/lib/python3.7/dist-packages (from turicreate) (0.2.1)\n",
            "Requirement already satisfied: prettytable==0.7.2 in /usr/local/lib/python3.7/dist-packages (from turicreate) (0.7.2)\n",
            "Requirement already satisfied: numpy in /usr/local/lib/python3.7/dist-packages (from turicreate) (1.18.5)\n",
            "Requirement already satisfied: coremltools==3.3 in /usr/local/lib/python3.7/dist-packages (from turicreate) (3.3)\n",
            "Requirement already satisfied: pandas>=0.23.2 in /usr/local/lib/python3.7/dist-packages (from turicreate) (1.3.5)\n",
            "Requirement already satisfied: decorator>=4.0.9 in /usr/local/lib/python3.7/dist-packages (from turicreate) (4.4.2)\n",
            "Requirement already satisfied: six>=1.10.0 in /usr/local/lib/python3.7/dist-packages (from turicreate) (1.15.0)\n",
            "Requirement already satisfied: tensorflow<2.1.0,>=2.0.0 in /usr/local/lib/python3.7/dist-packages (from turicreate) (2.0.4)\n",
            "Requirement already satisfied: numba<0.51.0 in /usr/local/lib/python3.7/dist-packages (from turicreate) (0.50.1)\n",
            "Requirement already satisfied: requests>=2.9.1 in /usr/local/lib/python3.7/dist-packages (from turicreate) (2.23.0)\n",
            "Requirement already satisfied: pillow>=5.2.0 in /usr/local/lib/python3.7/dist-packages (from turicreate) (7.1.2)\n",
            "Requirement already satisfied: protobuf>=3.1.0 in /usr/local/lib/python3.7/dist-packages (from coremltools==3.3->turicreate) (3.17.3)\n",
            "Requirement already satisfied: setuptools in /usr/local/lib/python3.7/dist-packages (from numba<0.51.0->turicreate) (57.4.0)\n",
            "Requirement already satisfied: llvmlite<0.34,>=0.33.0.dev0 in /usr/local/lib/python3.7/dist-packages (from numba<0.51.0->turicreate) (0.33.0)\n",
            "Requirement already satisfied: pytz>=2017.3 in /usr/local/lib/python3.7/dist-packages (from pandas>=0.23.2->turicreate) (2022.1)\n",
            "Requirement already satisfied: python-dateutil>=2.7.3 in /usr/local/lib/python3.7/dist-packages (from pandas>=0.23.2->turicreate) (2.8.2)\n",
            "Requirement already satisfied: certifi>=2017.4.17 in /usr/local/lib/python3.7/dist-packages (from requests>=2.9.1->turicreate) (2022.5.18.1)\n",
            "Requirement already satisfied: urllib3!=1.25.0,!=1.25.1,<1.26,>=1.21.1 in /usr/local/lib/python3.7/dist-packages (from requests>=2.9.1->turicreate) (1.24.3)\n",
            "Requirement already satisfied: idna<3,>=2.5 in /usr/local/lib/python3.7/dist-packages (from requests>=2.9.1->turicreate) (2.10)\n",
            "Requirement already satisfied: chardet<4,>=3.0.2 in /usr/local/lib/python3.7/dist-packages (from requests>=2.9.1->turicreate) (3.0.4)\n",
            "Requirement already satisfied: google-pasta>=0.1.6 in /usr/local/lib/python3.7/dist-packages (from tensorflow<2.1.0,>=2.0.0->turicreate) (0.2.0)\n",
            "Requirement already satisfied: absl-py>=0.7.0 in /usr/local/lib/python3.7/dist-packages (from tensorflow<2.1.0,>=2.0.0->turicreate) (1.0.0)\n",
            "Requirement already satisfied: keras-preprocessing>=1.0.5 in /usr/local/lib/python3.7/dist-packages (from tensorflow<2.1.0,>=2.0.0->turicreate) (1.1.2)\n",
            "Requirement already satisfied: wheel>=0.26 in /usr/local/lib/python3.7/dist-packages (from tensorflow<2.1.0,>=2.0.0->turicreate) (0.37.1)\n",
            "Requirement already satisfied: h5py<=2.10.0 in /usr/local/lib/python3.7/dist-packages (from tensorflow<2.1.0,>=2.0.0->turicreate) (2.10.0)\n",
            "Requirement already satisfied: wrapt>=1.11.1 in /usr/local/lib/python3.7/dist-packages (from tensorflow<2.1.0,>=2.0.0->turicreate) (1.14.1)\n",
            "Requirement already satisfied: tensorboard<2.1.0,>=2.0.0 in /usr/local/lib/python3.7/dist-packages (from tensorflow<2.1.0,>=2.0.0->turicreate) (2.0.2)\n",
            "Requirement already satisfied: astor>=0.6.0 in /usr/local/lib/python3.7/dist-packages (from tensorflow<2.1.0,>=2.0.0->turicreate) (0.8.1)\n",
            "Requirement already satisfied: gast==0.2.2 in /usr/local/lib/python3.7/dist-packages (from tensorflow<2.1.0,>=2.0.0->turicreate) (0.2.2)\n",
            "Requirement already satisfied: tensorflow-estimator<2.1.0,>=2.0.0 in /usr/local/lib/python3.7/dist-packages (from tensorflow<2.1.0,>=2.0.0->turicreate) (2.0.1)\n",
            "Requirement already satisfied: termcolor>=1.1.0 in /usr/local/lib/python3.7/dist-packages (from tensorflow<2.1.0,>=2.0.0->turicreate) (1.1.0)\n",
            "Requirement already satisfied: keras-applications>=1.0.8 in /usr/local/lib/python3.7/dist-packages (from tensorflow<2.1.0,>=2.0.0->turicreate) (1.0.8)\n",
            "Requirement already satisfied: grpcio>=1.8.6 in /usr/local/lib/python3.7/dist-packages (from tensorflow<2.1.0,>=2.0.0->turicreate) (1.46.3)\n",
            "Requirement already satisfied: opt-einsum>=2.3.2 in /usr/local/lib/python3.7/dist-packages (from tensorflow<2.1.0,>=2.0.0->turicreate) (3.3.0)\n",
            "Requirement already satisfied: google-auth<2,>=1.6.3 in /usr/local/lib/python3.7/dist-packages (from tensorboard<2.1.0,>=2.0.0->tensorflow<2.1.0,>=2.0.0->turicreate) (1.35.0)\n",
            "Requirement already satisfied: werkzeug>=0.11.15 in /usr/local/lib/python3.7/dist-packages (from tensorboard<2.1.0,>=2.0.0->tensorflow<2.1.0,>=2.0.0->turicreate) (1.0.1)\n",
            "Requirement already satisfied: google-auth-oauthlib<0.5,>=0.4.1 in /usr/local/lib/python3.7/dist-packages (from tensorboard<2.1.0,>=2.0.0->tensorflow<2.1.0,>=2.0.0->turicreate) (0.4.6)\n",
            "Requirement already satisfied: markdown>=2.6.8 in /usr/local/lib/python3.7/dist-packages (from tensorboard<2.1.0,>=2.0.0->tensorflow<2.1.0,>=2.0.0->turicreate) (3.3.7)\n",
            "Requirement already satisfied: pyasn1-modules>=0.2.1 in /usr/local/lib/python3.7/dist-packages (from google-auth<2,>=1.6.3->tensorboard<2.1.0,>=2.0.0->tensorflow<2.1.0,>=2.0.0->turicreate) (0.2.8)\n",
            "Requirement already satisfied: rsa<5,>=3.1.4 in /usr/local/lib/python3.7/dist-packages (from google-auth<2,>=1.6.3->tensorboard<2.1.0,>=2.0.0->tensorflow<2.1.0,>=2.0.0->turicreate) (4.8)\n",
            "Requirement already satisfied: cachetools<5.0,>=2.0.0 in /usr/local/lib/python3.7/dist-packages (from google-auth<2,>=1.6.3->tensorboard<2.1.0,>=2.0.0->tensorflow<2.1.0,>=2.0.0->turicreate) (4.2.4)\n",
            "Requirement already satisfied: requests-oauthlib>=0.7.0 in /usr/local/lib/python3.7/dist-packages (from google-auth-oauthlib<0.5,>=0.4.1->tensorboard<2.1.0,>=2.0.0->tensorflow<2.1.0,>=2.0.0->turicreate) (1.3.1)\n",
            "Requirement already satisfied: importlib-metadata>=4.4 in /usr/local/lib/python3.7/dist-packages (from markdown>=2.6.8->tensorboard<2.1.0,>=2.0.0->tensorflow<2.1.0,>=2.0.0->turicreate) (4.11.4)\n",
            "Requirement already satisfied: zipp>=0.5 in /usr/local/lib/python3.7/dist-packages (from importlib-metadata>=4.4->markdown>=2.6.8->tensorboard<2.1.0,>=2.0.0->tensorflow<2.1.0,>=2.0.0->turicreate) (3.8.0)\n",
            "Requirement already satisfied: typing-extensions>=3.6.4 in /usr/local/lib/python3.7/dist-packages (from importlib-metadata>=4.4->markdown>=2.6.8->tensorboard<2.1.0,>=2.0.0->tensorflow<2.1.0,>=2.0.0->turicreate) (4.2.0)\n",
            "Requirement already satisfied: pyasn1<0.5.0,>=0.4.6 in /usr/local/lib/python3.7/dist-packages (from pyasn1-modules>=0.2.1->google-auth<2,>=1.6.3->tensorboard<2.1.0,>=2.0.0->tensorflow<2.1.0,>=2.0.0->turicreate) (0.4.8)\n",
            "Requirement already satisfied: oauthlib>=3.0.0 in /usr/local/lib/python3.7/dist-packages (from requests-oauthlib>=0.7.0->google-auth-oauthlib<0.5,>=0.4.1->tensorboard<2.1.0,>=2.0.0->tensorflow<2.1.0,>=2.0.0->turicreate) (3.2.0)\n"
          ]
        }
      ]
    },
    {
      "cell_type": "markdown",
      "source": [
        "Read the dataset using turicreate"
      ],
      "metadata": {
        "id": "lLy3-lJPSJeN"
      }
    },
    {
      "cell_type": "code",
      "source": [
        "#%matplotlib inline\n",
        "import turicreate as tc\n",
        "\n",
        "ibm_hr_dataset_path = \"./datasets/ibm-hr/WA_Fn-UseC_-HR-Employee-Attrition.csv\"\n",
        "sf = tc.SFrame.read_csv(ibm_hr_dataset_path)\n",
        "sf"
      ],
      "metadata": {
        "colab": {
          "base_uri": "https://localhost:8080/",
          "height": 1000
        },
        "id": "DKWGCC09SKY_",
        "outputId": "02ee50fa-ec8a-4317-c338-6b516664b637"
      },
      "execution_count": null,
      "outputs": [
        {
          "output_type": "display_data",
          "data": {
            "text/plain": [
              "Finished parsing file /content/datasets/ibm-hr/WA_Fn-UseC_-HR-Employee-Attrition.csv"
            ],
            "text/html": [
              "<pre>Finished parsing file /content/datasets/ibm-hr/WA_Fn-UseC_-HR-Employee-Attrition.csv</pre>"
            ]
          },
          "metadata": {}
        },
        {
          "output_type": "display_data",
          "data": {
            "text/plain": [
              "Parsing completed. Parsed 100 lines in 0.092593 secs."
            ],
            "text/html": [
              "<pre>Parsing completed. Parsed 100 lines in 0.092593 secs.</pre>"
            ]
          },
          "metadata": {}
        },
        {
          "output_type": "stream",
          "name": "stdout",
          "text": [
            "------------------------------------------------------\n",
            "Inferred types from first 100 line(s) of file as \n",
            "column_type_hints=[int,str,str,int,str,int,int,str,int,int,int,str,int,int,int,str,int,str,int,int,int,str,str,int,int,int,int,int,int,int,int,int,int,int,int]\n",
            "If parsing fails due to incorrect types, you can correct\n",
            "the inferred type list above and pass it to read_csv in\n",
            "the column_type_hints argument\n",
            "------------------------------------------------------\n"
          ]
        },
        {
          "output_type": "display_data",
          "data": {
            "text/plain": [
              "Finished parsing file /content/datasets/ibm-hr/WA_Fn-UseC_-HR-Employee-Attrition.csv"
            ],
            "text/html": [
              "<pre>Finished parsing file /content/datasets/ibm-hr/WA_Fn-UseC_-HR-Employee-Attrition.csv</pre>"
            ]
          },
          "metadata": {}
        },
        {
          "output_type": "display_data",
          "data": {
            "text/plain": [
              "Parsing completed. Parsed 1470 lines in 0.061867 secs."
            ],
            "text/html": [
              "<pre>Parsing completed. Parsed 1470 lines in 0.061867 secs.</pre>"
            ]
          },
          "metadata": {}
        },
        {
          "output_type": "execute_result",
          "data": {
            "text/plain": [
              "Columns:\n",
              "\tAge\tint\n",
              "\tAttrition\tstr\n",
              "\tBusinessTravel\tstr\n",
              "\tDailyRate\tint\n",
              "\tDepartment\tstr\n",
              "\tDistanceFromHome\tint\n",
              "\tEducation\tint\n",
              "\tEducationField\tstr\n",
              "\tEmployeeCount\tint\n",
              "\tEmployeeNumber\tint\n",
              "\tEnvironmentSatisfaction\tint\n",
              "\tGender\tstr\n",
              "\tHourlyRate\tint\n",
              "\tJobInvolvement\tint\n",
              "\tJobLevel\tint\n",
              "\tJobRole\tstr\n",
              "\tJobSatisfaction\tint\n",
              "\tMaritalStatus\tstr\n",
              "\tMonthlyIncome\tint\n",
              "\tMonthlyRate\tint\n",
              "\tNumCompaniesWorked\tint\n",
              "\tOver18\tstr\n",
              "\tOverTime\tstr\n",
              "\tPercentSalaryHike\tint\n",
              "\tPerformanceRating\tint\n",
              "\tRelationshipSatisfaction\tint\n",
              "\tStandardHours\tint\n",
              "\tStockOptionLevel\tint\n",
              "\tTotalWorkingYears\tint\n",
              "\tTrainingTimesLastYear\tint\n",
              "\tWorkLifeBalance\tint\n",
              "\tYearsAtCompany\tint\n",
              "\tYearsInCurrentRole\tint\n",
              "\tYearsSinceLastPromotion\tint\n",
              "\tYearsWithCurrManager\tint\n",
              "\n",
              "Rows: 1470\n",
              "\n",
              "Data:\n",
              "+-----+-----------+-------------------+-----------+------------------------+------------------+\n",
              "| Age | Attrition |   BusinessTravel  | DailyRate |       Department       | DistanceFromHome |\n",
              "+-----+-----------+-------------------+-----------+------------------------+------------------+\n",
              "|  41 |    Yes    |   Travel_Rarely   |    1102   |         Sales          |        1         |\n",
              "|  49 |     No    | Travel_Frequently |    279    | Research & Development |        8         |\n",
              "|  37 |    Yes    |   Travel_Rarely   |    1373   | Research & Development |        2         |\n",
              "|  33 |     No    | Travel_Frequently |    1392   | Research & Development |        3         |\n",
              "|  27 |     No    |   Travel_Rarely   |    591    | Research & Development |        2         |\n",
              "|  32 |     No    | Travel_Frequently |    1005   | Research & Development |        2         |\n",
              "|  59 |     No    |   Travel_Rarely   |    1324   | Research & Development |        3         |\n",
              "|  30 |     No    |   Travel_Rarely   |    1358   | Research & Development |        24        |\n",
              "|  38 |     No    | Travel_Frequently |    216    | Research & Development |        23        |\n",
              "|  36 |     No    |   Travel_Rarely   |    1299   | Research & Development |        27        |\n",
              "+-----+-----------+-------------------+-----------+------------------------+------------------+\n",
              "+-----------+----------------+---------------+----------------+-------------------------+\n",
              "| Education | EducationField | EmployeeCount | EmployeeNumber | EnvironmentSatisfaction |\n",
              "+-----------+----------------+---------------+----------------+-------------------------+\n",
              "|     2     | Life Sciences  |       1       |       1        |            2            |\n",
              "|     1     | Life Sciences  |       1       |       2        |            3            |\n",
              "|     2     |     Other      |       1       |       4        |            4            |\n",
              "|     4     | Life Sciences  |       1       |       5        |            4            |\n",
              "|     1     |    Medical     |       1       |       7        |            1            |\n",
              "|     2     | Life Sciences  |       1       |       8        |            4            |\n",
              "|     3     |    Medical     |       1       |       10       |            3            |\n",
              "|     1     | Life Sciences  |       1       |       11       |            4            |\n",
              "|     3     | Life Sciences  |       1       |       12       |            4            |\n",
              "|     3     |    Medical     |       1       |       13       |            3            |\n",
              "+-----------+----------------+---------------+----------------+-------------------------+\n",
              "+--------+------------+----------------+----------+---------------------------+\n",
              "| Gender | HourlyRate | JobInvolvement | JobLevel |          JobRole          |\n",
              "+--------+------------+----------------+----------+---------------------------+\n",
              "| Female |     94     |       3        |    2     |      Sales Executive      |\n",
              "|  Male  |     61     |       2        |    2     |     Research Scientist    |\n",
              "|  Male  |     92     |       2        |    1     |   Laboratory Technician   |\n",
              "| Female |     56     |       3        |    1     |     Research Scientist    |\n",
              "|  Male  |     40     |       3        |    1     |   Laboratory Technician   |\n",
              "|  Male  |     79     |       3        |    1     |   Laboratory Technician   |\n",
              "| Female |     81     |       4        |    1     |   Laboratory Technician   |\n",
              "|  Male  |     67     |       3        |    1     |   Laboratory Technician   |\n",
              "|  Male  |     44     |       2        |    3     |   Manufacturing Director  |\n",
              "|  Male  |     94     |       3        |    2     | Healthcare Representative |\n",
              "+--------+------------+----------------+----------+---------------------------+\n",
              "+-----------------+---------------+---------------+-------------+-----+\n",
              "| JobSatisfaction | MaritalStatus | MonthlyIncome | MonthlyRate | ... |\n",
              "+-----------------+---------------+---------------+-------------+-----+\n",
              "|        4        |     Single    |      5993     |    19479    | ... |\n",
              "|        2        |    Married    |      5130     |    24907    | ... |\n",
              "|        3        |     Single    |      2090     |     2396    | ... |\n",
              "|        3        |    Married    |      2909     |    23159    | ... |\n",
              "|        2        |    Married    |      3468     |    16632    | ... |\n",
              "|        4        |     Single    |      3068     |    11864    | ... |\n",
              "|        1        |    Married    |      2670     |     9964    | ... |\n",
              "|        3        |    Divorced   |      2693     |    13335    | ... |\n",
              "|        3        |     Single    |      9526     |     8787    | ... |\n",
              "|        3        |    Married    |      5237     |    16577    | ... |\n",
              "+-----------------+---------------+---------------+-------------+-----+\n",
              "[1470 rows x 35 columns]\n",
              "Note: Only the head of the SFrame is printed.\n",
              "You can use print_rows(num_rows=m, num_columns=n) to print more rows and columns."
            ],
            "text/html": [
              "<div style=\"max-height:1000px;max-width:1500px;overflow:auto;\"><table frame=\"box\" rules=\"cols\">\n",
              "    <tr>\n",
              "        <th style=\"padding-left: 1em; padding-right: 1em; text-align: center\">Age</th>\n",
              "        <th style=\"padding-left: 1em; padding-right: 1em; text-align: center\">Attrition</th>\n",
              "        <th style=\"padding-left: 1em; padding-right: 1em; text-align: center\">BusinessTravel</th>\n",
              "        <th style=\"padding-left: 1em; padding-right: 1em; text-align: center\">DailyRate</th>\n",
              "        <th style=\"padding-left: 1em; padding-right: 1em; text-align: center\">Department</th>\n",
              "        <th style=\"padding-left: 1em; padding-right: 1em; text-align: center\">DistanceFromHome</th>\n",
              "        <th style=\"padding-left: 1em; padding-right: 1em; text-align: center\">Education</th>\n",
              "    </tr>\n",
              "    <tr>\n",
              "        <td style=\"padding-left: 1em; padding-right: 1em; text-align: center; vertical-align: top\">41</td>\n",
              "        <td style=\"padding-left: 1em; padding-right: 1em; text-align: center; vertical-align: top\">Yes</td>\n",
              "        <td style=\"padding-left: 1em; padding-right: 1em; text-align: center; vertical-align: top\">Travel_Rarely</td>\n",
              "        <td style=\"padding-left: 1em; padding-right: 1em; text-align: center; vertical-align: top\">1102</td>\n",
              "        <td style=\"padding-left: 1em; padding-right: 1em; text-align: center; vertical-align: top\">Sales</td>\n",
              "        <td style=\"padding-left: 1em; padding-right: 1em; text-align: center; vertical-align: top\">1</td>\n",
              "        <td style=\"padding-left: 1em; padding-right: 1em; text-align: center; vertical-align: top\">2</td>\n",
              "    </tr>\n",
              "    <tr>\n",
              "        <td style=\"padding-left: 1em; padding-right: 1em; text-align: center; vertical-align: top\">49</td>\n",
              "        <td style=\"padding-left: 1em; padding-right: 1em; text-align: center; vertical-align: top\">No</td>\n",
              "        <td style=\"padding-left: 1em; padding-right: 1em; text-align: center; vertical-align: top\">Travel_Frequently</td>\n",
              "        <td style=\"padding-left: 1em; padding-right: 1em; text-align: center; vertical-align: top\">279</td>\n",
              "        <td style=\"padding-left: 1em; padding-right: 1em; text-align: center; vertical-align: top\">Research &amp; Development</td>\n",
              "        <td style=\"padding-left: 1em; padding-right: 1em; text-align: center; vertical-align: top\">8</td>\n",
              "        <td style=\"padding-left: 1em; padding-right: 1em; text-align: center; vertical-align: top\">1</td>\n",
              "    </tr>\n",
              "    <tr>\n",
              "        <td style=\"padding-left: 1em; padding-right: 1em; text-align: center; vertical-align: top\">37</td>\n",
              "        <td style=\"padding-left: 1em; padding-right: 1em; text-align: center; vertical-align: top\">Yes</td>\n",
              "        <td style=\"padding-left: 1em; padding-right: 1em; text-align: center; vertical-align: top\">Travel_Rarely</td>\n",
              "        <td style=\"padding-left: 1em; padding-right: 1em; text-align: center; vertical-align: top\">1373</td>\n",
              "        <td style=\"padding-left: 1em; padding-right: 1em; text-align: center; vertical-align: top\">Research &amp; Development</td>\n",
              "        <td style=\"padding-left: 1em; padding-right: 1em; text-align: center; vertical-align: top\">2</td>\n",
              "        <td style=\"padding-left: 1em; padding-right: 1em; text-align: center; vertical-align: top\">2</td>\n",
              "    </tr>\n",
              "    <tr>\n",
              "        <td style=\"padding-left: 1em; padding-right: 1em; text-align: center; vertical-align: top\">33</td>\n",
              "        <td style=\"padding-left: 1em; padding-right: 1em; text-align: center; vertical-align: top\">No</td>\n",
              "        <td style=\"padding-left: 1em; padding-right: 1em; text-align: center; vertical-align: top\">Travel_Frequently</td>\n",
              "        <td style=\"padding-left: 1em; padding-right: 1em; text-align: center; vertical-align: top\">1392</td>\n",
              "        <td style=\"padding-left: 1em; padding-right: 1em; text-align: center; vertical-align: top\">Research &amp; Development</td>\n",
              "        <td style=\"padding-left: 1em; padding-right: 1em; text-align: center; vertical-align: top\">3</td>\n",
              "        <td style=\"padding-left: 1em; padding-right: 1em; text-align: center; vertical-align: top\">4</td>\n",
              "    </tr>\n",
              "    <tr>\n",
              "        <td style=\"padding-left: 1em; padding-right: 1em; text-align: center; vertical-align: top\">27</td>\n",
              "        <td style=\"padding-left: 1em; padding-right: 1em; text-align: center; vertical-align: top\">No</td>\n",
              "        <td style=\"padding-left: 1em; padding-right: 1em; text-align: center; vertical-align: top\">Travel_Rarely</td>\n",
              "        <td style=\"padding-left: 1em; padding-right: 1em; text-align: center; vertical-align: top\">591</td>\n",
              "        <td style=\"padding-left: 1em; padding-right: 1em; text-align: center; vertical-align: top\">Research &amp; Development</td>\n",
              "        <td style=\"padding-left: 1em; padding-right: 1em; text-align: center; vertical-align: top\">2</td>\n",
              "        <td style=\"padding-left: 1em; padding-right: 1em; text-align: center; vertical-align: top\">1</td>\n",
              "    </tr>\n",
              "    <tr>\n",
              "        <td style=\"padding-left: 1em; padding-right: 1em; text-align: center; vertical-align: top\">32</td>\n",
              "        <td style=\"padding-left: 1em; padding-right: 1em; text-align: center; vertical-align: top\">No</td>\n",
              "        <td style=\"padding-left: 1em; padding-right: 1em; text-align: center; vertical-align: top\">Travel_Frequently</td>\n",
              "        <td style=\"padding-left: 1em; padding-right: 1em; text-align: center; vertical-align: top\">1005</td>\n",
              "        <td style=\"padding-left: 1em; padding-right: 1em; text-align: center; vertical-align: top\">Research &amp; Development</td>\n",
              "        <td style=\"padding-left: 1em; padding-right: 1em; text-align: center; vertical-align: top\">2</td>\n",
              "        <td style=\"padding-left: 1em; padding-right: 1em; text-align: center; vertical-align: top\">2</td>\n",
              "    </tr>\n",
              "    <tr>\n",
              "        <td style=\"padding-left: 1em; padding-right: 1em; text-align: center; vertical-align: top\">59</td>\n",
              "        <td style=\"padding-left: 1em; padding-right: 1em; text-align: center; vertical-align: top\">No</td>\n",
              "        <td style=\"padding-left: 1em; padding-right: 1em; text-align: center; vertical-align: top\">Travel_Rarely</td>\n",
              "        <td style=\"padding-left: 1em; padding-right: 1em; text-align: center; vertical-align: top\">1324</td>\n",
              "        <td style=\"padding-left: 1em; padding-right: 1em; text-align: center; vertical-align: top\">Research &amp; Development</td>\n",
              "        <td style=\"padding-left: 1em; padding-right: 1em; text-align: center; vertical-align: top\">3</td>\n",
              "        <td style=\"padding-left: 1em; padding-right: 1em; text-align: center; vertical-align: top\">3</td>\n",
              "    </tr>\n",
              "    <tr>\n",
              "        <td style=\"padding-left: 1em; padding-right: 1em; text-align: center; vertical-align: top\">30</td>\n",
              "        <td style=\"padding-left: 1em; padding-right: 1em; text-align: center; vertical-align: top\">No</td>\n",
              "        <td style=\"padding-left: 1em; padding-right: 1em; text-align: center; vertical-align: top\">Travel_Rarely</td>\n",
              "        <td style=\"padding-left: 1em; padding-right: 1em; text-align: center; vertical-align: top\">1358</td>\n",
              "        <td style=\"padding-left: 1em; padding-right: 1em; text-align: center; vertical-align: top\">Research &amp; Development</td>\n",
              "        <td style=\"padding-left: 1em; padding-right: 1em; text-align: center; vertical-align: top\">24</td>\n",
              "        <td style=\"padding-left: 1em; padding-right: 1em; text-align: center; vertical-align: top\">1</td>\n",
              "    </tr>\n",
              "    <tr>\n",
              "        <td style=\"padding-left: 1em; padding-right: 1em; text-align: center; vertical-align: top\">38</td>\n",
              "        <td style=\"padding-left: 1em; padding-right: 1em; text-align: center; vertical-align: top\">No</td>\n",
              "        <td style=\"padding-left: 1em; padding-right: 1em; text-align: center; vertical-align: top\">Travel_Frequently</td>\n",
              "        <td style=\"padding-left: 1em; padding-right: 1em; text-align: center; vertical-align: top\">216</td>\n",
              "        <td style=\"padding-left: 1em; padding-right: 1em; text-align: center; vertical-align: top\">Research &amp; Development</td>\n",
              "        <td style=\"padding-left: 1em; padding-right: 1em; text-align: center; vertical-align: top\">23</td>\n",
              "        <td style=\"padding-left: 1em; padding-right: 1em; text-align: center; vertical-align: top\">3</td>\n",
              "    </tr>\n",
              "    <tr>\n",
              "        <td style=\"padding-left: 1em; padding-right: 1em; text-align: center; vertical-align: top\">36</td>\n",
              "        <td style=\"padding-left: 1em; padding-right: 1em; text-align: center; vertical-align: top\">No</td>\n",
              "        <td style=\"padding-left: 1em; padding-right: 1em; text-align: center; vertical-align: top\">Travel_Rarely</td>\n",
              "        <td style=\"padding-left: 1em; padding-right: 1em; text-align: center; vertical-align: top\">1299</td>\n",
              "        <td style=\"padding-left: 1em; padding-right: 1em; text-align: center; vertical-align: top\">Research &amp; Development</td>\n",
              "        <td style=\"padding-left: 1em; padding-right: 1em; text-align: center; vertical-align: top\">27</td>\n",
              "        <td style=\"padding-left: 1em; padding-right: 1em; text-align: center; vertical-align: top\">3</td>\n",
              "    </tr>\n",
              "</table>\n",
              "<table frame=\"box\" rules=\"cols\">\n",
              "    <tr>\n",
              "        <th style=\"padding-left: 1em; padding-right: 1em; text-align: center\">EducationField</th>\n",
              "        <th style=\"padding-left: 1em; padding-right: 1em; text-align: center\">EmployeeCount</th>\n",
              "        <th style=\"padding-left: 1em; padding-right: 1em; text-align: center\">EmployeeNumber</th>\n",
              "        <th style=\"padding-left: 1em; padding-right: 1em; text-align: center\">EnvironmentSatisfaction</th>\n",
              "        <th style=\"padding-left: 1em; padding-right: 1em; text-align: center\">Gender</th>\n",
              "        <th style=\"padding-left: 1em; padding-right: 1em; text-align: center\">HourlyRate</th>\n",
              "        <th style=\"padding-left: 1em; padding-right: 1em; text-align: center\">JobInvolvement</th>\n",
              "        <th style=\"padding-left: 1em; padding-right: 1em; text-align: center\">JobLevel</th>\n",
              "    </tr>\n",
              "    <tr>\n",
              "        <td style=\"padding-left: 1em; padding-right: 1em; text-align: center; vertical-align: top\">Life Sciences</td>\n",
              "        <td style=\"padding-left: 1em; padding-right: 1em; text-align: center; vertical-align: top\">1</td>\n",
              "        <td style=\"padding-left: 1em; padding-right: 1em; text-align: center; vertical-align: top\">1</td>\n",
              "        <td style=\"padding-left: 1em; padding-right: 1em; text-align: center; vertical-align: top\">2</td>\n",
              "        <td style=\"padding-left: 1em; padding-right: 1em; text-align: center; vertical-align: top\">Female</td>\n",
              "        <td style=\"padding-left: 1em; padding-right: 1em; text-align: center; vertical-align: top\">94</td>\n",
              "        <td style=\"padding-left: 1em; padding-right: 1em; text-align: center; vertical-align: top\">3</td>\n",
              "        <td style=\"padding-left: 1em; padding-right: 1em; text-align: center; vertical-align: top\">2</td>\n",
              "    </tr>\n",
              "    <tr>\n",
              "        <td style=\"padding-left: 1em; padding-right: 1em; text-align: center; vertical-align: top\">Life Sciences</td>\n",
              "        <td style=\"padding-left: 1em; padding-right: 1em; text-align: center; vertical-align: top\">1</td>\n",
              "        <td style=\"padding-left: 1em; padding-right: 1em; text-align: center; vertical-align: top\">2</td>\n",
              "        <td style=\"padding-left: 1em; padding-right: 1em; text-align: center; vertical-align: top\">3</td>\n",
              "        <td style=\"padding-left: 1em; padding-right: 1em; text-align: center; vertical-align: top\">Male</td>\n",
              "        <td style=\"padding-left: 1em; padding-right: 1em; text-align: center; vertical-align: top\">61</td>\n",
              "        <td style=\"padding-left: 1em; padding-right: 1em; text-align: center; vertical-align: top\">2</td>\n",
              "        <td style=\"padding-left: 1em; padding-right: 1em; text-align: center; vertical-align: top\">2</td>\n",
              "    </tr>\n",
              "    <tr>\n",
              "        <td style=\"padding-left: 1em; padding-right: 1em; text-align: center; vertical-align: top\">Other</td>\n",
              "        <td style=\"padding-left: 1em; padding-right: 1em; text-align: center; vertical-align: top\">1</td>\n",
              "        <td style=\"padding-left: 1em; padding-right: 1em; text-align: center; vertical-align: top\">4</td>\n",
              "        <td style=\"padding-left: 1em; padding-right: 1em; text-align: center; vertical-align: top\">4</td>\n",
              "        <td style=\"padding-left: 1em; padding-right: 1em; text-align: center; vertical-align: top\">Male</td>\n",
              "        <td style=\"padding-left: 1em; padding-right: 1em; text-align: center; vertical-align: top\">92</td>\n",
              "        <td style=\"padding-left: 1em; padding-right: 1em; text-align: center; vertical-align: top\">2</td>\n",
              "        <td style=\"padding-left: 1em; padding-right: 1em; text-align: center; vertical-align: top\">1</td>\n",
              "    </tr>\n",
              "    <tr>\n",
              "        <td style=\"padding-left: 1em; padding-right: 1em; text-align: center; vertical-align: top\">Life Sciences</td>\n",
              "        <td style=\"padding-left: 1em; padding-right: 1em; text-align: center; vertical-align: top\">1</td>\n",
              "        <td style=\"padding-left: 1em; padding-right: 1em; text-align: center; vertical-align: top\">5</td>\n",
              "        <td style=\"padding-left: 1em; padding-right: 1em; text-align: center; vertical-align: top\">4</td>\n",
              "        <td style=\"padding-left: 1em; padding-right: 1em; text-align: center; vertical-align: top\">Female</td>\n",
              "        <td style=\"padding-left: 1em; padding-right: 1em; text-align: center; vertical-align: top\">56</td>\n",
              "        <td style=\"padding-left: 1em; padding-right: 1em; text-align: center; vertical-align: top\">3</td>\n",
              "        <td style=\"padding-left: 1em; padding-right: 1em; text-align: center; vertical-align: top\">1</td>\n",
              "    </tr>\n",
              "    <tr>\n",
              "        <td style=\"padding-left: 1em; padding-right: 1em; text-align: center; vertical-align: top\">Medical</td>\n",
              "        <td style=\"padding-left: 1em; padding-right: 1em; text-align: center; vertical-align: top\">1</td>\n",
              "        <td style=\"padding-left: 1em; padding-right: 1em; text-align: center; vertical-align: top\">7</td>\n",
              "        <td style=\"padding-left: 1em; padding-right: 1em; text-align: center; vertical-align: top\">1</td>\n",
              "        <td style=\"padding-left: 1em; padding-right: 1em; text-align: center; vertical-align: top\">Male</td>\n",
              "        <td style=\"padding-left: 1em; padding-right: 1em; text-align: center; vertical-align: top\">40</td>\n",
              "        <td style=\"padding-left: 1em; padding-right: 1em; text-align: center; vertical-align: top\">3</td>\n",
              "        <td style=\"padding-left: 1em; padding-right: 1em; text-align: center; vertical-align: top\">1</td>\n",
              "    </tr>\n",
              "    <tr>\n",
              "        <td style=\"padding-left: 1em; padding-right: 1em; text-align: center; vertical-align: top\">Life Sciences</td>\n",
              "        <td style=\"padding-left: 1em; padding-right: 1em; text-align: center; vertical-align: top\">1</td>\n",
              "        <td style=\"padding-left: 1em; padding-right: 1em; text-align: center; vertical-align: top\">8</td>\n",
              "        <td style=\"padding-left: 1em; padding-right: 1em; text-align: center; vertical-align: top\">4</td>\n",
              "        <td style=\"padding-left: 1em; padding-right: 1em; text-align: center; vertical-align: top\">Male</td>\n",
              "        <td style=\"padding-left: 1em; padding-right: 1em; text-align: center; vertical-align: top\">79</td>\n",
              "        <td style=\"padding-left: 1em; padding-right: 1em; text-align: center; vertical-align: top\">3</td>\n",
              "        <td style=\"padding-left: 1em; padding-right: 1em; text-align: center; vertical-align: top\">1</td>\n",
              "    </tr>\n",
              "    <tr>\n",
              "        <td style=\"padding-left: 1em; padding-right: 1em; text-align: center; vertical-align: top\">Medical</td>\n",
              "        <td style=\"padding-left: 1em; padding-right: 1em; text-align: center; vertical-align: top\">1</td>\n",
              "        <td style=\"padding-left: 1em; padding-right: 1em; text-align: center; vertical-align: top\">10</td>\n",
              "        <td style=\"padding-left: 1em; padding-right: 1em; text-align: center; vertical-align: top\">3</td>\n",
              "        <td style=\"padding-left: 1em; padding-right: 1em; text-align: center; vertical-align: top\">Female</td>\n",
              "        <td style=\"padding-left: 1em; padding-right: 1em; text-align: center; vertical-align: top\">81</td>\n",
              "        <td style=\"padding-left: 1em; padding-right: 1em; text-align: center; vertical-align: top\">4</td>\n",
              "        <td style=\"padding-left: 1em; padding-right: 1em; text-align: center; vertical-align: top\">1</td>\n",
              "    </tr>\n",
              "    <tr>\n",
              "        <td style=\"padding-left: 1em; padding-right: 1em; text-align: center; vertical-align: top\">Life Sciences</td>\n",
              "        <td style=\"padding-left: 1em; padding-right: 1em; text-align: center; vertical-align: top\">1</td>\n",
              "        <td style=\"padding-left: 1em; padding-right: 1em; text-align: center; vertical-align: top\">11</td>\n",
              "        <td style=\"padding-left: 1em; padding-right: 1em; text-align: center; vertical-align: top\">4</td>\n",
              "        <td style=\"padding-left: 1em; padding-right: 1em; text-align: center; vertical-align: top\">Male</td>\n",
              "        <td style=\"padding-left: 1em; padding-right: 1em; text-align: center; vertical-align: top\">67</td>\n",
              "        <td style=\"padding-left: 1em; padding-right: 1em; text-align: center; vertical-align: top\">3</td>\n",
              "        <td style=\"padding-left: 1em; padding-right: 1em; text-align: center; vertical-align: top\">1</td>\n",
              "    </tr>\n",
              "    <tr>\n",
              "        <td style=\"padding-left: 1em; padding-right: 1em; text-align: center; vertical-align: top\">Life Sciences</td>\n",
              "        <td style=\"padding-left: 1em; padding-right: 1em; text-align: center; vertical-align: top\">1</td>\n",
              "        <td style=\"padding-left: 1em; padding-right: 1em; text-align: center; vertical-align: top\">12</td>\n",
              "        <td style=\"padding-left: 1em; padding-right: 1em; text-align: center; vertical-align: top\">4</td>\n",
              "        <td style=\"padding-left: 1em; padding-right: 1em; text-align: center; vertical-align: top\">Male</td>\n",
              "        <td style=\"padding-left: 1em; padding-right: 1em; text-align: center; vertical-align: top\">44</td>\n",
              "        <td style=\"padding-left: 1em; padding-right: 1em; text-align: center; vertical-align: top\">2</td>\n",
              "        <td style=\"padding-left: 1em; padding-right: 1em; text-align: center; vertical-align: top\">3</td>\n",
              "    </tr>\n",
              "    <tr>\n",
              "        <td style=\"padding-left: 1em; padding-right: 1em; text-align: center; vertical-align: top\">Medical</td>\n",
              "        <td style=\"padding-left: 1em; padding-right: 1em; text-align: center; vertical-align: top\">1</td>\n",
              "        <td style=\"padding-left: 1em; padding-right: 1em; text-align: center; vertical-align: top\">13</td>\n",
              "        <td style=\"padding-left: 1em; padding-right: 1em; text-align: center; vertical-align: top\">3</td>\n",
              "        <td style=\"padding-left: 1em; padding-right: 1em; text-align: center; vertical-align: top\">Male</td>\n",
              "        <td style=\"padding-left: 1em; padding-right: 1em; text-align: center; vertical-align: top\">94</td>\n",
              "        <td style=\"padding-left: 1em; padding-right: 1em; text-align: center; vertical-align: top\">3</td>\n",
              "        <td style=\"padding-left: 1em; padding-right: 1em; text-align: center; vertical-align: top\">2</td>\n",
              "    </tr>\n",
              "</table>\n",
              "<table frame=\"box\" rules=\"cols\">\n",
              "    <tr>\n",
              "        <th style=\"padding-left: 1em; padding-right: 1em; text-align: center\">JobRole</th>\n",
              "        <th style=\"padding-left: 1em; padding-right: 1em; text-align: center\">JobSatisfaction</th>\n",
              "        <th style=\"padding-left: 1em; padding-right: 1em; text-align: center\">MaritalStatus</th>\n",
              "        <th style=\"padding-left: 1em; padding-right: 1em; text-align: center\">MonthlyIncome</th>\n",
              "        <th style=\"padding-left: 1em; padding-right: 1em; text-align: center\">MonthlyRate</th>\n",
              "        <th style=\"padding-left: 1em; padding-right: 1em; text-align: center\">NumCompaniesWorked</th>\n",
              "        <th style=\"padding-left: 1em; padding-right: 1em; text-align: center\">Over18</th>\n",
              "    </tr>\n",
              "    <tr>\n",
              "        <td style=\"padding-left: 1em; padding-right: 1em; text-align: center; vertical-align: top\">Sales Executive</td>\n",
              "        <td style=\"padding-left: 1em; padding-right: 1em; text-align: center; vertical-align: top\">4</td>\n",
              "        <td style=\"padding-left: 1em; padding-right: 1em; text-align: center; vertical-align: top\">Single</td>\n",
              "        <td style=\"padding-left: 1em; padding-right: 1em; text-align: center; vertical-align: top\">5993</td>\n",
              "        <td style=\"padding-left: 1em; padding-right: 1em; text-align: center; vertical-align: top\">19479</td>\n",
              "        <td style=\"padding-left: 1em; padding-right: 1em; text-align: center; vertical-align: top\">8</td>\n",
              "        <td style=\"padding-left: 1em; padding-right: 1em; text-align: center; vertical-align: top\">Y</td>\n",
              "    </tr>\n",
              "    <tr>\n",
              "        <td style=\"padding-left: 1em; padding-right: 1em; text-align: center; vertical-align: top\">Research Scientist</td>\n",
              "        <td style=\"padding-left: 1em; padding-right: 1em; text-align: center; vertical-align: top\">2</td>\n",
              "        <td style=\"padding-left: 1em; padding-right: 1em; text-align: center; vertical-align: top\">Married</td>\n",
              "        <td style=\"padding-left: 1em; padding-right: 1em; text-align: center; vertical-align: top\">5130</td>\n",
              "        <td style=\"padding-left: 1em; padding-right: 1em; text-align: center; vertical-align: top\">24907</td>\n",
              "        <td style=\"padding-left: 1em; padding-right: 1em; text-align: center; vertical-align: top\">1</td>\n",
              "        <td style=\"padding-left: 1em; padding-right: 1em; text-align: center; vertical-align: top\">Y</td>\n",
              "    </tr>\n",
              "    <tr>\n",
              "        <td style=\"padding-left: 1em; padding-right: 1em; text-align: center; vertical-align: top\">Laboratory Technician</td>\n",
              "        <td style=\"padding-left: 1em; padding-right: 1em; text-align: center; vertical-align: top\">3</td>\n",
              "        <td style=\"padding-left: 1em; padding-right: 1em; text-align: center; vertical-align: top\">Single</td>\n",
              "        <td style=\"padding-left: 1em; padding-right: 1em; text-align: center; vertical-align: top\">2090</td>\n",
              "        <td style=\"padding-left: 1em; padding-right: 1em; text-align: center; vertical-align: top\">2396</td>\n",
              "        <td style=\"padding-left: 1em; padding-right: 1em; text-align: center; vertical-align: top\">6</td>\n",
              "        <td style=\"padding-left: 1em; padding-right: 1em; text-align: center; vertical-align: top\">Y</td>\n",
              "    </tr>\n",
              "    <tr>\n",
              "        <td style=\"padding-left: 1em; padding-right: 1em; text-align: center; vertical-align: top\">Research Scientist</td>\n",
              "        <td style=\"padding-left: 1em; padding-right: 1em; text-align: center; vertical-align: top\">3</td>\n",
              "        <td style=\"padding-left: 1em; padding-right: 1em; text-align: center; vertical-align: top\">Married</td>\n",
              "        <td style=\"padding-left: 1em; padding-right: 1em; text-align: center; vertical-align: top\">2909</td>\n",
              "        <td style=\"padding-left: 1em; padding-right: 1em; text-align: center; vertical-align: top\">23159</td>\n",
              "        <td style=\"padding-left: 1em; padding-right: 1em; text-align: center; vertical-align: top\">1</td>\n",
              "        <td style=\"padding-left: 1em; padding-right: 1em; text-align: center; vertical-align: top\">Y</td>\n",
              "    </tr>\n",
              "    <tr>\n",
              "        <td style=\"padding-left: 1em; padding-right: 1em; text-align: center; vertical-align: top\">Laboratory Technician</td>\n",
              "        <td style=\"padding-left: 1em; padding-right: 1em; text-align: center; vertical-align: top\">2</td>\n",
              "        <td style=\"padding-left: 1em; padding-right: 1em; text-align: center; vertical-align: top\">Married</td>\n",
              "        <td style=\"padding-left: 1em; padding-right: 1em; text-align: center; vertical-align: top\">3468</td>\n",
              "        <td style=\"padding-left: 1em; padding-right: 1em; text-align: center; vertical-align: top\">16632</td>\n",
              "        <td style=\"padding-left: 1em; padding-right: 1em; text-align: center; vertical-align: top\">9</td>\n",
              "        <td style=\"padding-left: 1em; padding-right: 1em; text-align: center; vertical-align: top\">Y</td>\n",
              "    </tr>\n",
              "    <tr>\n",
              "        <td style=\"padding-left: 1em; padding-right: 1em; text-align: center; vertical-align: top\">Laboratory Technician</td>\n",
              "        <td style=\"padding-left: 1em; padding-right: 1em; text-align: center; vertical-align: top\">4</td>\n",
              "        <td style=\"padding-left: 1em; padding-right: 1em; text-align: center; vertical-align: top\">Single</td>\n",
              "        <td style=\"padding-left: 1em; padding-right: 1em; text-align: center; vertical-align: top\">3068</td>\n",
              "        <td style=\"padding-left: 1em; padding-right: 1em; text-align: center; vertical-align: top\">11864</td>\n",
              "        <td style=\"padding-left: 1em; padding-right: 1em; text-align: center; vertical-align: top\">0</td>\n",
              "        <td style=\"padding-left: 1em; padding-right: 1em; text-align: center; vertical-align: top\">Y</td>\n",
              "    </tr>\n",
              "    <tr>\n",
              "        <td style=\"padding-left: 1em; padding-right: 1em; text-align: center; vertical-align: top\">Laboratory Technician</td>\n",
              "        <td style=\"padding-left: 1em; padding-right: 1em; text-align: center; vertical-align: top\">1</td>\n",
              "        <td style=\"padding-left: 1em; padding-right: 1em; text-align: center; vertical-align: top\">Married</td>\n",
              "        <td style=\"padding-left: 1em; padding-right: 1em; text-align: center; vertical-align: top\">2670</td>\n",
              "        <td style=\"padding-left: 1em; padding-right: 1em; text-align: center; vertical-align: top\">9964</td>\n",
              "        <td style=\"padding-left: 1em; padding-right: 1em; text-align: center; vertical-align: top\">4</td>\n",
              "        <td style=\"padding-left: 1em; padding-right: 1em; text-align: center; vertical-align: top\">Y</td>\n",
              "    </tr>\n",
              "    <tr>\n",
              "        <td style=\"padding-left: 1em; padding-right: 1em; text-align: center; vertical-align: top\">Laboratory Technician</td>\n",
              "        <td style=\"padding-left: 1em; padding-right: 1em; text-align: center; vertical-align: top\">3</td>\n",
              "        <td style=\"padding-left: 1em; padding-right: 1em; text-align: center; vertical-align: top\">Divorced</td>\n",
              "        <td style=\"padding-left: 1em; padding-right: 1em; text-align: center; vertical-align: top\">2693</td>\n",
              "        <td style=\"padding-left: 1em; padding-right: 1em; text-align: center; vertical-align: top\">13335</td>\n",
              "        <td style=\"padding-left: 1em; padding-right: 1em; text-align: center; vertical-align: top\">1</td>\n",
              "        <td style=\"padding-left: 1em; padding-right: 1em; text-align: center; vertical-align: top\">Y</td>\n",
              "    </tr>\n",
              "    <tr>\n",
              "        <td style=\"padding-left: 1em; padding-right: 1em; text-align: center; vertical-align: top\">Manufacturing Director</td>\n",
              "        <td style=\"padding-left: 1em; padding-right: 1em; text-align: center; vertical-align: top\">3</td>\n",
              "        <td style=\"padding-left: 1em; padding-right: 1em; text-align: center; vertical-align: top\">Single</td>\n",
              "        <td style=\"padding-left: 1em; padding-right: 1em; text-align: center; vertical-align: top\">9526</td>\n",
              "        <td style=\"padding-left: 1em; padding-right: 1em; text-align: center; vertical-align: top\">8787</td>\n",
              "        <td style=\"padding-left: 1em; padding-right: 1em; text-align: center; vertical-align: top\">0</td>\n",
              "        <td style=\"padding-left: 1em; padding-right: 1em; text-align: center; vertical-align: top\">Y</td>\n",
              "    </tr>\n",
              "    <tr>\n",
              "        <td style=\"padding-left: 1em; padding-right: 1em; text-align: center; vertical-align: top\">Healthcare Representative</td>\n",
              "        <td style=\"padding-left: 1em; padding-right: 1em; text-align: center; vertical-align: top\">3</td>\n",
              "        <td style=\"padding-left: 1em; padding-right: 1em; text-align: center; vertical-align: top\">Married</td>\n",
              "        <td style=\"padding-left: 1em; padding-right: 1em; text-align: center; vertical-align: top\">5237</td>\n",
              "        <td style=\"padding-left: 1em; padding-right: 1em; text-align: center; vertical-align: top\">16577</td>\n",
              "        <td style=\"padding-left: 1em; padding-right: 1em; text-align: center; vertical-align: top\">6</td>\n",
              "        <td style=\"padding-left: 1em; padding-right: 1em; text-align: center; vertical-align: top\">Y</td>\n",
              "    </tr>\n",
              "</table>\n",
              "<table frame=\"box\" rules=\"cols\">\n",
              "    <tr>\n",
              "        <th style=\"padding-left: 1em; padding-right: 1em; text-align: center\">OverTime</th>\n",
              "        <th style=\"padding-left: 1em; padding-right: 1em; text-align: center\">PercentSalaryHike</th>\n",
              "        <th style=\"padding-left: 1em; padding-right: 1em; text-align: center\">PerformanceRating</th>\n",
              "        <th style=\"padding-left: 1em; padding-right: 1em; text-align: center\">RelationshipSatisfaction</th>\n",
              "        <th style=\"padding-left: 1em; padding-right: 1em; text-align: center\">StandardHours</th>\n",
              "        <th style=\"padding-left: 1em; padding-right: 1em; text-align: center\">StockOptionLevel</th>\n",
              "        <th style=\"padding-left: 1em; padding-right: 1em; text-align: center\">TotalWorkingYears</th>\n",
              "    </tr>\n",
              "    <tr>\n",
              "        <td style=\"padding-left: 1em; padding-right: 1em; text-align: center; vertical-align: top\">Yes</td>\n",
              "        <td style=\"padding-left: 1em; padding-right: 1em; text-align: center; vertical-align: top\">11</td>\n",
              "        <td style=\"padding-left: 1em; padding-right: 1em; text-align: center; vertical-align: top\">3</td>\n",
              "        <td style=\"padding-left: 1em; padding-right: 1em; text-align: center; vertical-align: top\">1</td>\n",
              "        <td style=\"padding-left: 1em; padding-right: 1em; text-align: center; vertical-align: top\">80</td>\n",
              "        <td style=\"padding-left: 1em; padding-right: 1em; text-align: center; vertical-align: top\">0</td>\n",
              "        <td style=\"padding-left: 1em; padding-right: 1em; text-align: center; vertical-align: top\">8</td>\n",
              "    </tr>\n",
              "    <tr>\n",
              "        <td style=\"padding-left: 1em; padding-right: 1em; text-align: center; vertical-align: top\">No</td>\n",
              "        <td style=\"padding-left: 1em; padding-right: 1em; text-align: center; vertical-align: top\">23</td>\n",
              "        <td style=\"padding-left: 1em; padding-right: 1em; text-align: center; vertical-align: top\">4</td>\n",
              "        <td style=\"padding-left: 1em; padding-right: 1em; text-align: center; vertical-align: top\">4</td>\n",
              "        <td style=\"padding-left: 1em; padding-right: 1em; text-align: center; vertical-align: top\">80</td>\n",
              "        <td style=\"padding-left: 1em; padding-right: 1em; text-align: center; vertical-align: top\">1</td>\n",
              "        <td style=\"padding-left: 1em; padding-right: 1em; text-align: center; vertical-align: top\">10</td>\n",
              "    </tr>\n",
              "    <tr>\n",
              "        <td style=\"padding-left: 1em; padding-right: 1em; text-align: center; vertical-align: top\">Yes</td>\n",
              "        <td style=\"padding-left: 1em; padding-right: 1em; text-align: center; vertical-align: top\">15</td>\n",
              "        <td style=\"padding-left: 1em; padding-right: 1em; text-align: center; vertical-align: top\">3</td>\n",
              "        <td style=\"padding-left: 1em; padding-right: 1em; text-align: center; vertical-align: top\">2</td>\n",
              "        <td style=\"padding-left: 1em; padding-right: 1em; text-align: center; vertical-align: top\">80</td>\n",
              "        <td style=\"padding-left: 1em; padding-right: 1em; text-align: center; vertical-align: top\">0</td>\n",
              "        <td style=\"padding-left: 1em; padding-right: 1em; text-align: center; vertical-align: top\">7</td>\n",
              "    </tr>\n",
              "    <tr>\n",
              "        <td style=\"padding-left: 1em; padding-right: 1em; text-align: center; vertical-align: top\">Yes</td>\n",
              "        <td style=\"padding-left: 1em; padding-right: 1em; text-align: center; vertical-align: top\">11</td>\n",
              "        <td style=\"padding-left: 1em; padding-right: 1em; text-align: center; vertical-align: top\">3</td>\n",
              "        <td style=\"padding-left: 1em; padding-right: 1em; text-align: center; vertical-align: top\">3</td>\n",
              "        <td style=\"padding-left: 1em; padding-right: 1em; text-align: center; vertical-align: top\">80</td>\n",
              "        <td style=\"padding-left: 1em; padding-right: 1em; text-align: center; vertical-align: top\">0</td>\n",
              "        <td style=\"padding-left: 1em; padding-right: 1em; text-align: center; vertical-align: top\">8</td>\n",
              "    </tr>\n",
              "    <tr>\n",
              "        <td style=\"padding-left: 1em; padding-right: 1em; text-align: center; vertical-align: top\">No</td>\n",
              "        <td style=\"padding-left: 1em; padding-right: 1em; text-align: center; vertical-align: top\">12</td>\n",
              "        <td style=\"padding-left: 1em; padding-right: 1em; text-align: center; vertical-align: top\">3</td>\n",
              "        <td style=\"padding-left: 1em; padding-right: 1em; text-align: center; vertical-align: top\">4</td>\n",
              "        <td style=\"padding-left: 1em; padding-right: 1em; text-align: center; vertical-align: top\">80</td>\n",
              "        <td style=\"padding-left: 1em; padding-right: 1em; text-align: center; vertical-align: top\">1</td>\n",
              "        <td style=\"padding-left: 1em; padding-right: 1em; text-align: center; vertical-align: top\">6</td>\n",
              "    </tr>\n",
              "    <tr>\n",
              "        <td style=\"padding-left: 1em; padding-right: 1em; text-align: center; vertical-align: top\">No</td>\n",
              "        <td style=\"padding-left: 1em; padding-right: 1em; text-align: center; vertical-align: top\">13</td>\n",
              "        <td style=\"padding-left: 1em; padding-right: 1em; text-align: center; vertical-align: top\">3</td>\n",
              "        <td style=\"padding-left: 1em; padding-right: 1em; text-align: center; vertical-align: top\">3</td>\n",
              "        <td style=\"padding-left: 1em; padding-right: 1em; text-align: center; vertical-align: top\">80</td>\n",
              "        <td style=\"padding-left: 1em; padding-right: 1em; text-align: center; vertical-align: top\">0</td>\n",
              "        <td style=\"padding-left: 1em; padding-right: 1em; text-align: center; vertical-align: top\">8</td>\n",
              "    </tr>\n",
              "    <tr>\n",
              "        <td style=\"padding-left: 1em; padding-right: 1em; text-align: center; vertical-align: top\">Yes</td>\n",
              "        <td style=\"padding-left: 1em; padding-right: 1em; text-align: center; vertical-align: top\">20</td>\n",
              "        <td style=\"padding-left: 1em; padding-right: 1em; text-align: center; vertical-align: top\">4</td>\n",
              "        <td style=\"padding-left: 1em; padding-right: 1em; text-align: center; vertical-align: top\">1</td>\n",
              "        <td style=\"padding-left: 1em; padding-right: 1em; text-align: center; vertical-align: top\">80</td>\n",
              "        <td style=\"padding-left: 1em; padding-right: 1em; text-align: center; vertical-align: top\">3</td>\n",
              "        <td style=\"padding-left: 1em; padding-right: 1em; text-align: center; vertical-align: top\">12</td>\n",
              "    </tr>\n",
              "    <tr>\n",
              "        <td style=\"padding-left: 1em; padding-right: 1em; text-align: center; vertical-align: top\">No</td>\n",
              "        <td style=\"padding-left: 1em; padding-right: 1em; text-align: center; vertical-align: top\">22</td>\n",
              "        <td style=\"padding-left: 1em; padding-right: 1em; text-align: center; vertical-align: top\">4</td>\n",
              "        <td style=\"padding-left: 1em; padding-right: 1em; text-align: center; vertical-align: top\">2</td>\n",
              "        <td style=\"padding-left: 1em; padding-right: 1em; text-align: center; vertical-align: top\">80</td>\n",
              "        <td style=\"padding-left: 1em; padding-right: 1em; text-align: center; vertical-align: top\">1</td>\n",
              "        <td style=\"padding-left: 1em; padding-right: 1em; text-align: center; vertical-align: top\">1</td>\n",
              "    </tr>\n",
              "    <tr>\n",
              "        <td style=\"padding-left: 1em; padding-right: 1em; text-align: center; vertical-align: top\">No</td>\n",
              "        <td style=\"padding-left: 1em; padding-right: 1em; text-align: center; vertical-align: top\">21</td>\n",
              "        <td style=\"padding-left: 1em; padding-right: 1em; text-align: center; vertical-align: top\">4</td>\n",
              "        <td style=\"padding-left: 1em; padding-right: 1em; text-align: center; vertical-align: top\">2</td>\n",
              "        <td style=\"padding-left: 1em; padding-right: 1em; text-align: center; vertical-align: top\">80</td>\n",
              "        <td style=\"padding-left: 1em; padding-right: 1em; text-align: center; vertical-align: top\">0</td>\n",
              "        <td style=\"padding-left: 1em; padding-right: 1em; text-align: center; vertical-align: top\">10</td>\n",
              "    </tr>\n",
              "    <tr>\n",
              "        <td style=\"padding-left: 1em; padding-right: 1em; text-align: center; vertical-align: top\">No</td>\n",
              "        <td style=\"padding-left: 1em; padding-right: 1em; text-align: center; vertical-align: top\">13</td>\n",
              "        <td style=\"padding-left: 1em; padding-right: 1em; text-align: center; vertical-align: top\">3</td>\n",
              "        <td style=\"padding-left: 1em; padding-right: 1em; text-align: center; vertical-align: top\">2</td>\n",
              "        <td style=\"padding-left: 1em; padding-right: 1em; text-align: center; vertical-align: top\">80</td>\n",
              "        <td style=\"padding-left: 1em; padding-right: 1em; text-align: center; vertical-align: top\">2</td>\n",
              "        <td style=\"padding-left: 1em; padding-right: 1em; text-align: center; vertical-align: top\">17</td>\n",
              "    </tr>\n",
              "</table>\n",
              "<table frame=\"box\" rules=\"cols\">\n",
              "    <tr>\n",
              "        <th style=\"padding-left: 1em; padding-right: 1em; text-align: center\">TrainingTimesLastYear</th>\n",
              "        <th style=\"padding-left: 1em; padding-right: 1em; text-align: center\">WorkLifeBalance</th>\n",
              "        <th style=\"padding-left: 1em; padding-right: 1em; text-align: center\">YearsAtCompany</th>\n",
              "        <th style=\"padding-left: 1em; padding-right: 1em; text-align: center\">YearsInCurrentRole</th>\n",
              "        <th style=\"padding-left: 1em; padding-right: 1em; text-align: center\">YearsSinceLastPromotion</th>\n",
              "        <th style=\"padding-left: 1em; padding-right: 1em; text-align: center\">YearsWithCurrManager</th>\n",
              "    </tr>\n",
              "    <tr>\n",
              "        <td style=\"padding-left: 1em; padding-right: 1em; text-align: center; vertical-align: top\">0</td>\n",
              "        <td style=\"padding-left: 1em; padding-right: 1em; text-align: center; vertical-align: top\">1</td>\n",
              "        <td style=\"padding-left: 1em; padding-right: 1em; text-align: center; vertical-align: top\">6</td>\n",
              "        <td style=\"padding-left: 1em; padding-right: 1em; text-align: center; vertical-align: top\">4</td>\n",
              "        <td style=\"padding-left: 1em; padding-right: 1em; text-align: center; vertical-align: top\">0</td>\n",
              "        <td style=\"padding-left: 1em; padding-right: 1em; text-align: center; vertical-align: top\">5</td>\n",
              "    </tr>\n",
              "    <tr>\n",
              "        <td style=\"padding-left: 1em; padding-right: 1em; text-align: center; vertical-align: top\">3</td>\n",
              "        <td style=\"padding-left: 1em; padding-right: 1em; text-align: center; vertical-align: top\">3</td>\n",
              "        <td style=\"padding-left: 1em; padding-right: 1em; text-align: center; vertical-align: top\">10</td>\n",
              "        <td style=\"padding-left: 1em; padding-right: 1em; text-align: center; vertical-align: top\">7</td>\n",
              "        <td style=\"padding-left: 1em; padding-right: 1em; text-align: center; vertical-align: top\">1</td>\n",
              "        <td style=\"padding-left: 1em; padding-right: 1em; text-align: center; vertical-align: top\">7</td>\n",
              "    </tr>\n",
              "    <tr>\n",
              "        <td style=\"padding-left: 1em; padding-right: 1em; text-align: center; vertical-align: top\">3</td>\n",
              "        <td style=\"padding-left: 1em; padding-right: 1em; text-align: center; vertical-align: top\">3</td>\n",
              "        <td style=\"padding-left: 1em; padding-right: 1em; text-align: center; vertical-align: top\">0</td>\n",
              "        <td style=\"padding-left: 1em; padding-right: 1em; text-align: center; vertical-align: top\">0</td>\n",
              "        <td style=\"padding-left: 1em; padding-right: 1em; text-align: center; vertical-align: top\">0</td>\n",
              "        <td style=\"padding-left: 1em; padding-right: 1em; text-align: center; vertical-align: top\">0</td>\n",
              "    </tr>\n",
              "    <tr>\n",
              "        <td style=\"padding-left: 1em; padding-right: 1em; text-align: center; vertical-align: top\">3</td>\n",
              "        <td style=\"padding-left: 1em; padding-right: 1em; text-align: center; vertical-align: top\">3</td>\n",
              "        <td style=\"padding-left: 1em; padding-right: 1em; text-align: center; vertical-align: top\">8</td>\n",
              "        <td style=\"padding-left: 1em; padding-right: 1em; text-align: center; vertical-align: top\">7</td>\n",
              "        <td style=\"padding-left: 1em; padding-right: 1em; text-align: center; vertical-align: top\">3</td>\n",
              "        <td style=\"padding-left: 1em; padding-right: 1em; text-align: center; vertical-align: top\">0</td>\n",
              "    </tr>\n",
              "    <tr>\n",
              "        <td style=\"padding-left: 1em; padding-right: 1em; text-align: center; vertical-align: top\">3</td>\n",
              "        <td style=\"padding-left: 1em; padding-right: 1em; text-align: center; vertical-align: top\">3</td>\n",
              "        <td style=\"padding-left: 1em; padding-right: 1em; text-align: center; vertical-align: top\">2</td>\n",
              "        <td style=\"padding-left: 1em; padding-right: 1em; text-align: center; vertical-align: top\">2</td>\n",
              "        <td style=\"padding-left: 1em; padding-right: 1em; text-align: center; vertical-align: top\">2</td>\n",
              "        <td style=\"padding-left: 1em; padding-right: 1em; text-align: center; vertical-align: top\">2</td>\n",
              "    </tr>\n",
              "    <tr>\n",
              "        <td style=\"padding-left: 1em; padding-right: 1em; text-align: center; vertical-align: top\">2</td>\n",
              "        <td style=\"padding-left: 1em; padding-right: 1em; text-align: center; vertical-align: top\">2</td>\n",
              "        <td style=\"padding-left: 1em; padding-right: 1em; text-align: center; vertical-align: top\">7</td>\n",
              "        <td style=\"padding-left: 1em; padding-right: 1em; text-align: center; vertical-align: top\">7</td>\n",
              "        <td style=\"padding-left: 1em; padding-right: 1em; text-align: center; vertical-align: top\">3</td>\n",
              "        <td style=\"padding-left: 1em; padding-right: 1em; text-align: center; vertical-align: top\">6</td>\n",
              "    </tr>\n",
              "    <tr>\n",
              "        <td style=\"padding-left: 1em; padding-right: 1em; text-align: center; vertical-align: top\">3</td>\n",
              "        <td style=\"padding-left: 1em; padding-right: 1em; text-align: center; vertical-align: top\">2</td>\n",
              "        <td style=\"padding-left: 1em; padding-right: 1em; text-align: center; vertical-align: top\">1</td>\n",
              "        <td style=\"padding-left: 1em; padding-right: 1em; text-align: center; vertical-align: top\">0</td>\n",
              "        <td style=\"padding-left: 1em; padding-right: 1em; text-align: center; vertical-align: top\">0</td>\n",
              "        <td style=\"padding-left: 1em; padding-right: 1em; text-align: center; vertical-align: top\">0</td>\n",
              "    </tr>\n",
              "    <tr>\n",
              "        <td style=\"padding-left: 1em; padding-right: 1em; text-align: center; vertical-align: top\">2</td>\n",
              "        <td style=\"padding-left: 1em; padding-right: 1em; text-align: center; vertical-align: top\">3</td>\n",
              "        <td style=\"padding-left: 1em; padding-right: 1em; text-align: center; vertical-align: top\">1</td>\n",
              "        <td style=\"padding-left: 1em; padding-right: 1em; text-align: center; vertical-align: top\">0</td>\n",
              "        <td style=\"padding-left: 1em; padding-right: 1em; text-align: center; vertical-align: top\">0</td>\n",
              "        <td style=\"padding-left: 1em; padding-right: 1em; text-align: center; vertical-align: top\">0</td>\n",
              "    </tr>\n",
              "    <tr>\n",
              "        <td style=\"padding-left: 1em; padding-right: 1em; text-align: center; vertical-align: top\">2</td>\n",
              "        <td style=\"padding-left: 1em; padding-right: 1em; text-align: center; vertical-align: top\">3</td>\n",
              "        <td style=\"padding-left: 1em; padding-right: 1em; text-align: center; vertical-align: top\">9</td>\n",
              "        <td style=\"padding-left: 1em; padding-right: 1em; text-align: center; vertical-align: top\">7</td>\n",
              "        <td style=\"padding-left: 1em; padding-right: 1em; text-align: center; vertical-align: top\">1</td>\n",
              "        <td style=\"padding-left: 1em; padding-right: 1em; text-align: center; vertical-align: top\">8</td>\n",
              "    </tr>\n",
              "    <tr>\n",
              "        <td style=\"padding-left: 1em; padding-right: 1em; text-align: center; vertical-align: top\">3</td>\n",
              "        <td style=\"padding-left: 1em; padding-right: 1em; text-align: center; vertical-align: top\">2</td>\n",
              "        <td style=\"padding-left: 1em; padding-right: 1em; text-align: center; vertical-align: top\">7</td>\n",
              "        <td style=\"padding-left: 1em; padding-right: 1em; text-align: center; vertical-align: top\">7</td>\n",
              "        <td style=\"padding-left: 1em; padding-right: 1em; text-align: center; vertical-align: top\">7</td>\n",
              "        <td style=\"padding-left: 1em; padding-right: 1em; text-align: center; vertical-align: top\">7</td>\n",
              "    </tr>\n",
              "</table>\n",
              "[1470 rows x 35 columns]<br/>Note: Only the head of the SFrame is printed.<br/>You can use print_rows(num_rows=m, num_columns=n) to print more rows and columns.\n",
              "</div>"
            ]
          },
          "metadata": {},
          "execution_count": 2
        }
      ]
    },
    {
      "cell_type": "markdown",
      "source": [
        "The number of males vs the number of females"
      ],
      "metadata": {
        "id": "_wxVgDtySoSA"
      }
    },
    {
      "cell_type": "code",
      "source": [
        "import turicreate.aggregate as agg\n",
        "sf1=sf['Gender','EmployeeCount']\n",
        "g = sf1.groupby(['Gender'],{'Count': agg.SUM('EmployeeCount')}).sort('Count')\n",
        "#g.print_rows(num_rows=300) \n",
        "g[0],g[1]"
      ],
      "metadata": {
        "colab": {
          "base_uri": "https://localhost:8080/"
        },
        "id": "858nFAMCazjR",
        "outputId": "005d8b43-8a35-4bc8-dd47-6b72aa9948d9"
      },
      "execution_count": null,
      "outputs": [
        {
          "output_type": "execute_result",
          "data": {
            "text/plain": [
              "({'Count': 588, 'Gender': 'Female'}, {'Count': 882, 'Gender': 'Male'})"
            ]
          },
          "metadata": {},
          "execution_count": 3
        }
      ]
    },
    {
      "cell_type": "markdown",
      "source": [
        "The percentage of each gender"
      ],
      "metadata": {
        "id": "XfudK7gug8bp"
      }
    },
    {
      "cell_type": "code",
      "source": [
        "import matplotlib.pyplot as plt\n",
        "\n",
        "# Pie chart, where the slices will be ordered and plotted counter-clockwise:\n",
        "labels = 'Male', 'Female'\n",
        "\n",
        "sizes = [882/1470, 588/1470]\n",
        "explode = (0, 0.1)  # only \"explode\" the 2nd slice (i.e. 'Hogs')\n",
        "fig1, ax1 = plt.subplots()\n",
        "ax1.pie(sizes, explode=explode, labels=labels, autopct='%1.1f%%',shadow=True, startangle=90,colors=['#4F6272', '#DD7596'])\n",
        "ax1.axis('equal')  # Equal aspect ratio ensures that pie is drawn as a circle.\n",
        "\n",
        "plt.show()"
      ],
      "metadata": {
        "colab": {
          "base_uri": "https://localhost:8080/",
          "height": 248
        },
        "id": "At-IHzMoa4lA",
        "outputId": "b9b8ce82-6e0d-4ff8-fb66-4d51c681ac3b"
      },
      "execution_count": null,
      "outputs": [
        {
          "output_type": "display_data",
          "data": {
            "text/plain": [
              "<Figure size 432x288 with 1 Axes>"
            ],
            "image/png": "[encoded data removed]"
          },
          "metadata": {}
        }
      ]
    },
    {
      "cell_type": "markdown",
      "source": [
        "The differences in terms of total working years "
      ],
      "metadata": {
        "id": "CyZCQygBhh6E"
      }
    },
    {
      "cell_type": "code",
      "source": [
        "import pandas as pd # data processing, CSV file I/O (e.g. pd.read_csv)\n",
        "\n",
        "df = pd.read_csv(\"/content/datasets/ibm-hr/WA_Fn-UseC_-HR-Employee-Attrition.csv\")\n",
        "\n",
        "df_woy = df.loc[:,['TotalWorkingYears','Gender']]\n",
        "df_woy_graph = df_woy.pivot_table(index = 'TotalWorkingYears', columns=['Gender'], aggfunc = len)\n",
        "df_woy_graph.head(5)\n",
        "df_woy_graph.plot(kind = 'bar',title='how TotalWorkingYears affect from gender',stacked = True, color = ['purple','blue'], figsize = (28,8), ylabel = 'count')\n"
      ],
      "metadata": {
        "colab": {
          "base_uri": "https://localhost:8080/",
          "height": 471
        },
        "id": "zgXaaM0GMM1d",
        "outputId": "5b0a5e3d-9843-4445-82d7-ad430bffa4a5"
      },
      "execution_count": null,
      "outputs": [
        {
          "output_type": "execute_result",
          "data": {
            "text/plain": [
              "<matplotlib.axes._subplots.AxesSubplot at 0x7ff11dc8b1d0>"
            ]
          },
          "metadata": {},
          "execution_count": 5
        },
        {
          "output_type": "display_data",
          "data": {
            "text/plain": [
              "<Figure size 2016x576 with 1 Axes>"
            ],
            "image/png": "[encoded data removed]"
          },
          "metadata": {
            "needs_background": "light"
          }
        }
      ]
    },
    {
      "cell_type": "markdown",
      "source": [
        "The differences between a man and a woman in terms of age"
      ],
      "metadata": {
        "id": "eADEuCGAa8KS"
      }
    },
    {
      "cell_type": "code",
      "source": [
        "import turicreate.aggregate as agg\n",
        "sf1=sf['Gender','Age','EmployeeCount']\n",
        "g = sf1.groupby(['Gender','Age'],{'Count': agg.SUM('EmployeeCount')}).sort('Age')\n",
        "g.print_rows(num_rows=300) \n",
        "\n",
        "import matplotlib.pyplot as plt\n",
        "g2=g[g.apply(lambda r: r['Gender'] == 'Female')]\n",
        "g3=g[g.apply(lambda r: r['Gender'] == 'Male')]\n",
        "\n",
        "%matplotlib inline\n",
        "plt.plot(list(g3[\"Age\"]), list(g3[\"Count\"]),label=\"males\",color=\"blue\")\n",
        "plt.plot(list(g2[\"Age\"]), list(g2[\"Count\"]),label=\"females\",color=\"purple\")\n",
        "plt.xlabel(\"Age\")\n",
        "plt.title(\"The difference in terms of age between male and female \")\n",
        "plt.ylabel(\"Count\")\n",
        "plt.legend();"
      ],
      "metadata": {
        "colab": {
          "base_uri": "https://localhost:8080/",
          "height": 1000
        },
        "id": "_eXsMuLMVKAy",
        "outputId": "d3ede472-2a54-4059-95d3-cc34280db59a"
      },
      "execution_count": null,
      "outputs": [
        {
          "output_type": "stream",
          "name": "stdout",
          "text": [
            "+-----+--------+-------+\n",
            "| Age | Gender | Count |\n",
            "+-----+--------+-------+\n",
            "|  18 | Female |   4   |\n",
            "|  18 |  Male  |   4   |\n",
            "|  19 | Female |   4   |\n",
            "|  19 |  Male  |   5   |\n",
            "|  20 | Female |   6   |\n",
            "|  20 |  Male  |   5   |\n",
            "|  21 |  Male  |   7   |\n",
            "|  21 | Female |   6   |\n",
            "|  22 | Female |   5   |\n",
            "|  22 |  Male  |   11  |\n",
            "|  23 |  Male  |   13  |\n",
            "|  23 | Female |   1   |\n",
            "|  24 |  Male  |   15  |\n",
            "|  24 | Female |   11  |\n",
            "|  25 | Female |   6   |\n",
            "|  25 |  Male  |   20  |\n",
            "|  26 |  Male  |   25  |\n",
            "|  26 | Female |   14  |\n",
            "|  27 |  Male  |   26  |\n",
            "|  27 | Female |   22  |\n",
            "|  28 |  Male  |   36  |\n",
            "|  28 | Female |   12  |\n",
            "|  29 |  Male  |   39  |\n",
            "|  29 | Female |   29  |\n",
            "|  30 |  Male  |   34  |\n",
            "|  30 | Female |   26  |\n",
            "|  31 | Female |   28  |\n",
            "|  31 |  Male  |   41  |\n",
            "|  32 | Female |   23  |\n",
            "|  32 |  Male  |   38  |\n",
            "|  33 | Female |   24  |\n",
            "|  33 |  Male  |   34  |\n",
            "|  34 | Female |   33  |\n",
            "|  34 |  Male  |   44  |\n",
            "|  35 | Female |   27  |\n",
            "|  35 |  Male  |   51  |\n",
            "|  36 |  Male  |   40  |\n",
            "|  36 | Female |   29  |\n",
            "|  37 |  Male  |   32  |\n",
            "|  37 | Female |   18  |\n",
            "|  38 | Female |   27  |\n",
            "|  38 |  Male  |   31  |\n",
            "|  39 |  Male  |   26  |\n",
            "|  39 | Female |   16  |\n",
            "|  40 |  Male  |   33  |\n",
            "|  40 | Female |   24  |\n",
            "|  41 |  Male  |   25  |\n",
            "|  41 | Female |   15  |\n",
            "|  42 |  Male  |   30  |\n",
            "|  42 | Female |   16  |\n",
            "|  43 |  Male  |   18  |\n",
            "|  43 | Female |   14  |\n",
            "|  44 |  Male  |   23  |\n",
            "|  44 | Female |   10  |\n",
            "|  45 |  Male  |   24  |\n",
            "|  45 | Female |   17  |\n",
            "|  46 | Female |   15  |\n",
            "|  46 |  Male  |   18  |\n",
            "|  47 | Female |   14  |\n",
            "|  47 |  Male  |   10  |\n",
            "|  48 | Female |   7   |\n",
            "|  48 |  Male  |   12  |\n",
            "|  49 | Female |   12  |\n",
            "|  49 |  Male  |   12  |\n",
            "|  50 | Female |   9   |\n",
            "|  50 |  Male  |   21  |\n",
            "|  51 | Female |   7   |\n",
            "|  51 |  Male  |   12  |\n",
            "|  52 |  Male  |   11  |\n",
            "|  52 | Female |   7   |\n",
            "|  53 | Female |   10  |\n",
            "|  53 |  Male  |   9   |\n",
            "|  54 | Female |   15  |\n",
            "|  54 |  Male  |   3   |\n",
            "|  55 | Female |   4   |\n",
            "|  55 |  Male  |   18  |\n",
            "|  56 |  Male  |   7   |\n",
            "|  56 | Female |   7   |\n",
            "|  57 |  Male  |   4   |\n",
            "|  58 |  Male  |   8   |\n",
            "|  58 | Female |   6   |\n",
            "|  59 |  Male  |   4   |\n",
            "|  59 | Female |   6   |\n",
            "|  60 |  Male  |   3   |\n",
            "|  60 | Female |   2   |\n",
            "+-----+--------+-------+\n",
            "[85 rows x 3 columns]\n",
            "\n"
          ]
        },
        {
          "output_type": "display_data",
          "data": {
            "text/plain": [
              "<Figure size 432x288 with 1 Axes>"
            ],
            "image/png": "[encoded data removed]"
          },
          "metadata": {
            "needs_background": "light"
          }
        }
      ]
    },
    {
      "cell_type": "markdown",
      "source": [
        "The differences between a man and a woman in terms of role\n"
      ],
      "metadata": {
        "id": "Q1ov2AhAZoyr"
      }
    },
    {
      "cell_type": "code",
      "source": [
        "import turicreate.aggregate as agg\n",
        "import seaborn as sns\n",
        "\n",
        "sf1=sf['JobRole','Age','Gender','EmployeeCount']\n",
        "g = sf1.groupby(['JobRole','Gender'],{'Count': agg.SUM('EmployeeCount')}).sort('Count',ascending=False)\n",
        "g.print_rows(num_rows=100)\n",
        "\n",
        "#Graph\n",
        "from pandas.core.frame import DataFrame\n",
        "sns.barplot(x = 'Count',\n",
        "            y = 'JobRole',\n",
        "            hue = 'Gender',\n",
        "            data = DataFrame(g),\n",
        "            palette = \"Blues\")# Show the plot\n",
        "plt.show()"
      ],
      "metadata": {
        "id": "At0_iWE0c62U",
        "colab": {
          "base_uri": "https://localhost:8080/",
          "height": 695
        },
        "outputId": "925c7700-0de7-45f7-d3b1-4652cb3c17d2"
      },
      "execution_count": null,
      "outputs": [
        {
          "output_type": "stream",
          "name": "stdout",
          "text": [
            "+--------+---------------------------+-------+\n",
            "| Gender |          JobRole          | Count |\n",
            "+--------+---------------------------+-------+\n",
            "|  Male  |      Sales Executive      |  194  |\n",
            "|  Male  |     Research Scientist    |  178  |\n",
            "|  Male  |   Laboratory Technician   |  174  |\n",
            "| Female |      Sales Executive      |  132  |\n",
            "| Female |     Research Scientist    |  114  |\n",
            "| Female |   Laboratory Technician   |   85  |\n",
            "|  Male  | Healthcare Representative |   80  |\n",
            "|  Male  |   Manufacturing Director  |   73  |\n",
            "| Female |   Manufacturing Director  |   72  |\n",
            "|  Male  |          Manager          |   55  |\n",
            "| Female | Healthcare Representative |   51  |\n",
            "|  Male  |     Research Director     |   47  |\n",
            "| Female |          Manager          |   47  |\n",
            "|  Male  |    Sales Representative   |   45  |\n",
            "| Female |    Sales Representative   |   38  |\n",
            "|  Male  |      Human Resources      |   36  |\n",
            "| Female |     Research Director     |   33  |\n",
            "| Female |      Human Resources      |   16  |\n",
            "+--------+---------------------------+-------+\n",
            "[18 rows x 3 columns]\n",
            "\n"
          ]
        },
        {
          "output_type": "display_data",
          "data": {
            "text/plain": [
              "<Figure size 432x288 with 1 Axes>"
            ],
            "image/png": "[encoded data removed]"
          },
          "metadata": {
            "needs_background": "light"
          }
        }
      ]
    },
    {
      "cell_type": "markdown",
      "source": [
        "Does being in a relationship affect working hours? (difference between females and males)"
      ],
      "metadata": {
        "id": "r0n3wvMVkg1t"
      }
    },
    {
      "cell_type": "code",
      "source": [
        "\n",
        "sf1=sf['MaritalStatus','OverTime','Gender','EmployeeCount']\n",
        "g = sf1.groupby(['MaritalStatus','OverTime','Gender'],{'Count': agg.SUM('EmployeeCount')}).sort('Count',ascending=False)\n",
        "g.print_rows(num_rows=100)\n",
        "\n",
        "from pandas.core.frame import DataFrame\n",
        "\n",
        "g = sns.catplot(x=\"MaritalStatus\", y=\"Count\",\n",
        "                hue=\"OverTime\", col=\"Gender\",\n",
        "                data=DataFrame(g), kind=\"bar\",\n",
        "                height=4, aspect=.7,palette = \"Greens\");"
      ],
      "metadata": {
        "colab": {
          "base_uri": "https://localhost:8080/",
          "height": 609
        },
        "id": "bmYMhhLulLxT",
        "outputId": "06d4f65b-afd2-43fb-d018-c7bdfe0cc45f"
      },
      "execution_count": null,
      "outputs": [
        {
          "output_type": "stream",
          "name": "stdout",
          "text": [
            "+--------+---------------+----------+-------+\n",
            "| Gender | MaritalStatus | OverTime | Count |\n",
            "+--------+---------------+----------+-------+\n",
            "|  Male  |    Married    |    No    |  289  |\n",
            "|  Male  |     Single    |    No    |  203  |\n",
            "| Female |    Married    |    No    |  198  |\n",
            "|  Male  |    Divorced   |    No    |  154  |\n",
            "| Female |     Single    |    No    |  136  |\n",
            "|  Male  |    Married    |   Yes    |  112  |\n",
            "| Female |    Married    |   Yes    |   74  |\n",
            "| Female |    Divorced   |    No    |   74  |\n",
            "|  Male  |     Single    |   Yes    |   68  |\n",
            "| Female |     Single    |   Yes    |   63  |\n",
            "|  Male  |    Divorced   |   Yes    |   56  |\n",
            "| Female |    Divorced   |   Yes    |   43  |\n",
            "+--------+---------------+----------+-------+\n",
            "[12 rows x 4 columns]\n",
            "\n"
          ]
        },
        {
          "output_type": "display_data",
          "data": {
            "text/plain": [
              "<Figure size 459.45x288 with 2 Axes>"
            ],
            "image/png": "[encoded data removed]"
          },
          "metadata": {
            "needs_background": "light"
          }
        }
      ]
    },
    {
      "cell_type": "markdown",
      "source": [
        "Education vs rating in work for males and females"
      ],
      "metadata": {
        "id": "ferdWiPFofi5"
      }
    },
    {
      "cell_type": "code",
      "source": [
        "sf1=sf['Gender','MonthlyRate','Education','EmployeeCount']\n",
        "g=sf1.groupby(['Education','Gender'],{'MonthlyRate avg': agg.AVG('MonthlyRate')}).sort('Education')\n",
        "g\n",
        "import matplotlib.pyplot as plt\n",
        "import seaborn as sns\n",
        "from pandas.core.frame import DataFrame\n",
        "\n",
        "g = sns.catplot(x=\"Education\", y=\"MonthlyRate avg\",\n",
        "                hue=\"Gender\",\n",
        "                data=DataFrame(g), kind=\"bar\",\n",
        "                height=6, aspect=.7,palette = \"Oranges\");\n"
      ],
      "metadata": {
        "colab": {
          "base_uri": "https://localhost:8080/",
          "height": 441
        },
        "id": "hA4v2JbCotuF",
        "outputId": "e78ad4b5-b9ee-48c3-dbcb-fb6ebf5ff378"
      },
      "execution_count": null,
      "outputs": [
        {
          "output_type": "display_data",
          "data": {
            "text/plain": [
              "<Figure size 374.525x432 with 1 Axes>"
            ],
            "image/png": "[encoded data removed]"
          },
          "metadata": {
            "needs_background": "light"
          }
        }
      ]
    },
    {
      "cell_type": "markdown",
      "source": [
        "how monthly income affect monthly reating"
      ],
      "metadata": {
        "id": "IBDrVzW_Z_3u"
      }
    },
    {
      "cell_type": "code",
      "source": [
        "import turicreate.aggregate as agg\n",
        "sf1=sf['Gender','MonthlyRate','MonthlyIncome','EmployeeCount']\n",
        "g = sf1.groupby(['Gender'],{'Count': agg.SUM('EmployeeCount'),'IncomeAvg':agg.AVG('MonthlyIncome'),'RatingAvg':agg.AVG('MonthlyRate')}).sort('RatingAvg',ascending=False)\n",
        "\n",
        "import matplotlib.pyplot as plt\n",
        "g2=g[g.apply(lambda r: r['Gender'] == 'Female')]\n",
        "g3=g[g.apply(lambda r: r['Gender'] == 'Male')]\n",
        "import seaborn as sns\n",
        "%matplotlib inline\n",
        "plt.plot( list(g3[\"IncomeAvg\"]),list(g3[\"RatingAvg\"]),label=\"Males\",color=\"blue\")\n",
        "plt.plot(list(g2[\"IncomeAvg\"]),list(g2[\"RatingAvg\"]),label=\"Females\",color=\"purple\")\n",
        "plt.xlabel(\"IncomeAvg\") \n",
        "plt.ylabel(\"RatingAvg\")\n",
        "plt.legend();\n",
        "g"
      ],
      "metadata": {
        "colab": {
          "base_uri": "https://localhost:8080/",
          "height": 372
        },
        "id": "mYZp0iVsZ-x3",
        "outputId": "748c0ed3-2659-430d-c820-1dc17f7bdba7"
      },
      "execution_count": null,
      "outputs": [
        {
          "output_type": "execute_result",
          "data": {
            "text/plain": [
              "Columns:\n",
              "\tGender\tstr\n",
              "\tCount\tint\n",
              "\tIncomeAvg\tfloat\n",
              "\tRatingAvg\tfloat\n",
              "\n",
              "Rows: 2\n",
              "\n",
              "Data:\n",
              "+--------+-------+-------------------+--------------------+\n",
              "| Gender | Count |     IncomeAvg     |     RatingAvg      |\n",
              "+--------+-------+-------------------+--------------------+\n",
              "| Female |  588  | 6686.566326530612 | 14674.600340136054 |\n",
              "|  Male  |  882  | 6380.507936507936 | 14072.105442176871 |\n",
              "+--------+-------+-------------------+--------------------+\n",
              "[2 rows x 4 columns]"
            ],
            "text/html": [
              "<div style=\"max-height:1000px;max-width:1500px;overflow:auto;\"><table frame=\"box\" rules=\"cols\">\n",
              "    <tr>\n",
              "        <th style=\"padding-left: 1em; padding-right: 1em; text-align: center\">Gender</th>\n",
              "        <th style=\"padding-left: 1em; padding-right: 1em; text-align: center\">Count</th>\n",
              "        <th style=\"padding-left: 1em; padding-right: 1em; text-align: center\">IncomeAvg</th>\n",
              "        <th style=\"padding-left: 1em; padding-right: 1em; text-align: center\">RatingAvg</th>\n",
              "    </tr>\n",
              "    <tr>\n",
              "        <td style=\"padding-left: 1em; padding-right: 1em; text-align: center; vertical-align: top\">Female</td>\n",
              "        <td style=\"padding-left: 1em; padding-right: 1em; text-align: center; vertical-align: top\">588</td>\n",
              "        <td style=\"padding-left: 1em; padding-right: 1em; text-align: center; vertical-align: top\">6686.566326530612</td>\n",
              "        <td style=\"padding-left: 1em; padding-right: 1em; text-align: center; vertical-align: top\">14674.600340136054</td>\n",
              "    </tr>\n",
              "    <tr>\n",
              "        <td style=\"padding-left: 1em; padding-right: 1em; text-align: center; vertical-align: top\">Male</td>\n",
              "        <td style=\"padding-left: 1em; padding-right: 1em; text-align: center; vertical-align: top\">882</td>\n",
              "        <td style=\"padding-left: 1em; padding-right: 1em; text-align: center; vertical-align: top\">6380.507936507936</td>\n",
              "        <td style=\"padding-left: 1em; padding-right: 1em; text-align: center; vertical-align: top\">14072.105442176871</td>\n",
              "    </tr>\n",
              "</table>\n",
              "[2 rows x 4 columns]<br/>\n",
              "</div>"
            ]
          },
          "metadata": {},
          "execution_count": 33
        },
        {
          "output_type": "display_data",
          "data": {
            "text/plain": [
              "<Figure size 432x288 with 1 Axes>"
            ],
            "image/png": "[encoded data removed]"
          },
          "metadata": {
            "needs_background": "light"
          }
        }
      ]
    },
    {
      "cell_type": "markdown",
      "source": [
        "the number of employee take Business Travel"
      ],
      "metadata": {
        "id": "p0guDQhKJ5Nk"
      }
    },
    {
      "cell_type": "code",
      "source": [
        "\n",
        "sf1=sf['BusinessTravel','EmployeeCount','Gender']\n",
        "g = sf1.groupby(['BusinessTravel','Gender'],{'Count': agg.SUM('EmployeeCount')}).sort('Count')\n",
        "g.print_rows(num_rows=300) \n",
        "\n"
      ],
      "metadata": {
        "id": "z_E6Uh9vJ5_6",
        "colab": {
          "base_uri": "https://localhost:8080/"
        },
        "outputId": "012af174-6313-490d-bcbb-2f364d907f93"
      },
      "execution_count": null,
      "outputs": [
        {
          "output_type": "stream",
          "name": "stdout",
          "text": [
            "+-------------------+--------+-------+\n",
            "|   BusinessTravel  | Gender | Count |\n",
            "+-------------------+--------+-------+\n",
            "|     Non-Travel    | Female |   49  |\n",
            "|     Non-Travel    |  Male  |  101  |\n",
            "| Travel_Frequently | Female |  117  |\n",
            "| Travel_Frequently |  Male  |  160  |\n",
            "|   Travel_Rarely   | Female |  422  |\n",
            "|   Travel_Rarely   |  Male  |  621  |\n",
            "+-------------------+--------+-------+\n",
            "[6 rows x 3 columns]\n",
            "\n"
          ]
        }
      ]
    },
    {
      "cell_type": "code",
      "source": [
        "#import matplotlib.pyplot as plt\n",
        "import seaborn as sns\n",
        "from pandas.core.frame import DataFrame\n",
        "from matplotlib import pyplot as plt\n",
        "\n",
        "import turicreate.aggregate as agg\n",
        "sf1=sf['BusinessTravel','EmployeeCount']\n",
        "g = sf1.groupby(['BusinessTravel'],{'Count': agg.SUM('EmployeeCount')}).sort('Count')\n",
        "\n",
        "# Pie chart, where the slices will be ordered and plotted counter-clockwise:\n",
        "labels = 'Travel_Rarely', 'Travel_Frequently','Non-Travel'\n",
        "sizes = [1043/1470, 277/1470 ,150/1470]\n",
        "explode = (0, 0,0)  # only \"explode\" the 2nd slice (i.e. 'Hogs')\n",
        "fig1, ax1 = plt.subplots()\n",
        "ax1.pie(sizes, explode=explode, labels=labels, autopct='%1.1f%%',shadow=True, startangle=90,colors=['#4F6272', '#DD7596','#cccccc'])\n",
        "ax1.axis('equal')  # Equal aspect ratio ensures that pie is drawn as a circle.\n",
        "\n",
        "plt.show()"
      ],
      "metadata": {
        "colab": {
          "base_uri": "https://localhost:8080/",
          "height": 248
        },
        "id": "VtV1qCX-lvwc",
        "outputId": "d0803579-69e6-4ab2-f8c9-68fbeb391a46"
      },
      "execution_count": null,
      "outputs": [
        {
          "output_type": "display_data",
          "data": {
            "text/plain": [
              "<Figure size 432x288 with 1 Axes>"
            ],
            "image/png": "[encoded data removed]"
          },
          "metadata": {}
        }
      ]
    },
    {
      "cell_type": "markdown",
      "source": [
        "The percentage from females that travel business travels"
      ],
      "metadata": {
        "id": "9K4WtOoXj333"
      }
    },
    {
      "cell_type": "code",
      "source": [
        "import seaborn as sns\n",
        "from pandas.core.frame import DataFrame\n",
        "from matplotlib import pyplot as plt\n",
        "import turicreate.aggregate as agg\n",
        "\n",
        "sf1=sf['BusinessTravel','EmployeeCount','Gender']\n",
        "g = sf1.groupby(['BusinessTravel','Gender'],{'Count': agg.SUM('EmployeeCount')}).sort('Count')\n",
        "\n",
        "# Pie chart, where the slices will be ordered and plotted counter-clockwise:\n",
        "labels = 'Travel_Rarely', 'Travel_Frequently','Non-Travel'\n",
        "sizes = [422/588, 117/588 ,49/588]\n",
        "explode = (0, 0,0)  # only \"explode\" the 2nd slice (i.e. 'Hogs')\n",
        "fig1, ax1 = plt.subplots()\n",
        "ax1.pie(sizes, explode=explode, labels=labels, autopct='%1.1f%%',shadow=True, startangle=90,colors=['#4F6272', '#DD7596','#cccccc'])\n",
        "ax1.axis('equal')  # Equal aspect ratio ensures that pie is drawn as a circle.\n",
        "\n",
        "plt.show()"
      ],
      "metadata": {
        "colab": {
          "base_uri": "https://localhost:8080/",
          "height": 250
        },
        "id": "yICdAkAYj419",
        "outputId": "5a542394-6784-4f05-8220-3c22dcd6a43a"
      },
      "execution_count": null,
      "outputs": [
        {
          "output_type": "display_data",
          "data": {
            "text/plain": [
              "<Figure size 432x288 with 1 Axes>"
            ],
            "image/png": "[encoded data removed]"
          },
          "metadata": {}
        }
      ]
    },
    {
      "cell_type": "markdown",
      "source": [
        "the percentage of males travel business travels"
      ],
      "metadata": {
        "id": "mi3MXl0Cj5Yi"
      }
    },
    {
      "cell_type": "code",
      "source": [
        "import seaborn as sns\n",
        "from pandas.core.frame import DataFrame\n",
        "from matplotlib import pyplot as plt\n",
        "import turicreate.aggregate as agg\n",
        "\n",
        "sf1=sf['BusinessTravel','EmployeeCount','Gender']\n",
        "g = sf1.groupby(['BusinessTravel','Gender'],{'Count': agg.SUM('EmployeeCount')}).sort('Count')\n",
        "\n",
        "# Pie chart, where the slices will be ordered and plotted counter-clockwise:\n",
        "labels = 'Travel_Rarely', 'Travel_Frequently','Non-Travel'\n",
        "sizes = [621/882, 160/882 ,101/882]\n",
        "explode = (0, 0,0)  # only \"explode\" the 2nd slice (i.e. 'Hogs')\n",
        "fig1, ax1 = plt.subplots()\n",
        "ax1.pie(sizes, explode=explode, labels=labels, autopct='%1.1f%%',shadow=True, startangle=90,colors=['#4F6272', '#DD7596','#cccccc'])\n",
        "ax1.axis('equal')  # Equal aspect ratio ensures that pie is drawn as a circle.\n",
        "\n",
        "plt.show()"
      ],
      "metadata": {
        "colab": {
          "base_uri": "https://localhost:8080/",
          "height": 248
        },
        "id": "-xzL0YLpj5-y",
        "outputId": "70dc6390-e237-4ca9-bf4e-5f2f9bbac03c"
      },
      "execution_count": null,
      "outputs": [
        {
          "output_type": "display_data",
          "data": {
            "text/plain": [
              "<Figure size 432x288 with 1 Axes>"
            ],
            "image/png": "[encoded data removed]"
          },
          "metadata": {}
        }
      ]
    },
    {
      "cell_type": "markdown",
      "source": [
        "how marital status affect the business travel for each gender"
      ],
      "metadata": {
        "id": "t0VnOO9e5SFo"
      }
    },
    {
      "cell_type": "code",
      "source": [
        "sf1=sf['MaritalStatus','BusinessTravel','Gender','EmployeeCount']\n",
        "g = sf1.groupby(['MaritalStatus','BusinessTravel','Gender'],{'Count': agg.SUM('EmployeeCount')}).sort('BusinessTravel')\n",
        "g.print_rows(num_rows=1000)\n",
        "\n",
        "import matplotlib.pyplot as plt\n",
        "import seaborn as sns\n",
        "from pandas.core.frame import DataFrame\n",
        "\n",
        "g = sns.catplot(x=\"MaritalStatus\", y=\"Count\",\n",
        "                hue=\"BusinessTravel\", col=\"Gender\",\n",
        "                data=DataFrame(g), kind=\"bar\",\n",
        "                height=4, aspect=.7,palette = \"Blues\");"
      ],
      "metadata": {
        "colab": {
          "base_uri": "https://localhost:8080/",
          "height": 713
        },
        "id": "h5lxx0U_5SoV",
        "outputId": "2ccd7f64-db72-49f7-8bb5-3f5664bc7137"
      },
      "execution_count": null,
      "outputs": [
        {
          "output_type": "stream",
          "name": "stdout",
          "text": [
            "+-------------------+--------+---------------+-------+\n",
            "|   BusinessTravel  | Gender | MaritalStatus | Count |\n",
            "+-------------------+--------+---------------+-------+\n",
            "|     Non-Travel    |  Male  |     Single    |   32  |\n",
            "|     Non-Travel    |  Male  |    Divorced   |   33  |\n",
            "|     Non-Travel    | Female |    Divorced   |   11  |\n",
            "|     Non-Travel    | Female |     Single    |   15  |\n",
            "|     Non-Travel    | Female |    Married    |   23  |\n",
            "|     Non-Travel    |  Male  |    Married    |   36  |\n",
            "| Travel_Frequently | Female |    Married    |   44  |\n",
            "| Travel_Frequently |  Male  |    Married    |   74  |\n",
            "| Travel_Frequently | Female |     Single    |   49  |\n",
            "| Travel_Frequently |  Male  |     Single    |   47  |\n",
            "| Travel_Frequently |  Male  |    Divorced   |   39  |\n",
            "| Travel_Frequently | Female |    Divorced   |   24  |\n",
            "|   Travel_Rarely   |  Male  |    Married    |  291  |\n",
            "|   Travel_Rarely   | Female |    Married    |  205  |\n",
            "|   Travel_Rarely   |  Male  |     Single    |  192  |\n",
            "|   Travel_Rarely   |  Male  |    Divorced   |  138  |\n",
            "|   Travel_Rarely   | Female |    Divorced   |   82  |\n",
            "|   Travel_Rarely   | Female |     Single    |  135  |\n",
            "+-------------------+--------+---------------+-------+\n",
            "[18 rows x 4 columns]\n",
            "\n"
          ]
        },
        {
          "output_type": "display_data",
          "data": {
            "text/plain": [
              "<Figure size 526.7x288 with 2 Axes>"
            ],
            "image/png": "[encoded data removed]"
          },
          "metadata": {
            "needs_background": "light"
          }
        }
      ]
    },
    {
      "cell_type": "markdown",
      "source": [
        "How a company's distance from home affects the number of employees between women and men?"
      ],
      "metadata": {
        "id": "qr5ENH_T5fAq"
      }
    },
    {
      "cell_type": "code",
      "source": [
        "sf1=sf['Gender','DistanceFromHome','EmployeeCount']\n",
        "g = sf1.groupby(['Gender','DistanceFromHome'],{'Count': agg.SUM('EmployeeCount')}).sort('DistanceFromHome')\n",
        "import matplotlib.pyplot as plt\n",
        "g2=g[g.apply(lambda r: r['Gender'] == 'Female')]\n",
        "g3=g[g.apply(lambda r: r['Gender'] == 'Male')]\n",
        "\n",
        "import seaborn as sns\n",
        "%matplotlib inline\n",
        "plt.plot(list(g3[\"DistanceFromHome\"]), list(g3[\"Count\"]),label=\"males\",color=\"blue\")\n",
        "plt.plot(list(g2[\"DistanceFromHome\"]), list(g2[\"Count\"]),label=\"females\",color=\"purple\")\n",
        "plt.xlabel(\"DistanceFromHome\")\n",
        "plt.title(\"The difference in terms of DistanceFromHome between male and female \")\n",
        "plt.ylabel(\"Count\")\n",
        "plt.legend()\n",
        "\n",
        "g3['PercentageFromMales'] = g3['Count']/882\n",
        "g2['PercentageFromFemales'] = g2['Count']/588\n",
        "import seaborn as sns\n",
        "%matplotlib inline\n",
        "plt.plot(list(g2[\"DistanceFromHome\"]),list(g2[\"PercentageFromFemales\"]),label=\"females\",color=\"purple\")\n",
        "plt.plot(list(g3[\"DistanceFromHome\"]),list(g3[\"PercentageFromMales\"]),label=\"males\",color=\"blue\")\n",
        "plt.xlabel(\"DistanceFromHome\")\n",
        "plt.title(\"The difference in terms of DistanceFromHome between male and female \")\n",
        "plt.ylabel(\"PercentageFrom\")\n",
        "plt.legend()"
      ],
      "metadata": {
        "colab": {
          "base_uri": "https://localhost:8080/",
          "height": 312
        },
        "id": "tpE_sT5m5feZ",
        "outputId": "c1b94602-fbee-4435-fbe1-467288d2ed07"
      },
      "execution_count": null,
      "outputs": [
        {
          "output_type": "execute_result",
          "data": {
            "text/plain": [
              "<matplotlib.legend.Legend at 0x7ff119b1c110>"
            ]
          },
          "metadata": {},
          "execution_count": 30
        },
        {
          "output_type": "display_data",
          "data": {
            "text/plain": [
              "<Figure size 432x288 with 1 Axes>"
            ],
            "image/png": "[encoded data removed]"
          },
          "metadata": {
            "needs_background": "light"
          }
        }
      ]
    },
    {
      "cell_type": "markdown",
      "source": [
        "how marital status affect a distance from home in each gender"
      ],
      "metadata": {
        "id": "mD-ZBEX0n1gB"
      }
    },
    {
      "cell_type": "code",
      "source": [
        "sf1=sf['MaritalStatus','DistanceFromHome','Gender','EmployeeCount']\n",
        "g = sf1.groupby(['MaritalStatus','DistanceFromHome','Gender'],{'Count': agg.SUM('EmployeeCount')})\n",
        "\n",
        "import matplotlib.pyplot as plt\n",
        "\n",
        "import seaborn as sns\n",
        "from pandas.core.frame import DataFrame\n",
        "\n",
        "g = sns.catplot(x=\"MaritalStatus\", y=\"Count\",\n",
        "                hue=\"DistanceFromHome\", col=\"Gender\",\n",
        "                data=DataFrame(g), kind=\"bar\",\n",
        "                height=10, aspect=.7,palette = \"magma\");"
      ],
      "metadata": {
        "colab": {
          "base_uri": "https://localhost:8080/",
          "height": 729
        },
        "id": "aV5lknedwUcL",
        "outputId": "d368145f-13e9-478b-cb0d-faa2906a9825"
      },
      "execution_count": null,
      "outputs": [
        {
          "output_type": "display_data",
          "data": {
            "text/plain": [
              "<Figure size 1113.62x720 with 2 Axes>"
            ],
            "image/png": "[encoded data removed]"
          },
          "metadata": {
            "needs_background": "light"
          }
        }
      ]
    }
  ]
}